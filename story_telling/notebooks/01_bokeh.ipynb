{
 "cells": [
  {
   "cell_type": "markdown",
   "metadata": {},
   "source": [
    "## Importamos las librerías "
   ]
  },
  {
   "cell_type": "code",
   "execution_count": 1,
   "metadata": {},
   "outputs": [
    {
     "data": {
      "text/html": [
       "\n",
       "    <div class=\"bk-root\">\n",
       "        <a href=\"https://bokeh.pydata.org\" target=\"_blank\" class=\"bk-logo bk-logo-small bk-logo-notebook\"></a>\n",
       "        <span id=\"1001\">Loading BokehJS ...</span>\n",
       "    </div>"
      ]
     },
     "metadata": {},
     "output_type": "display_data"
    },
    {
     "data": {
      "application/javascript": [
       "\n",
       "(function(root) {\n",
       "  function now() {\n",
       "    return new Date();\n",
       "  }\n",
       "\n",
       "  var force = true;\n",
       "\n",
       "  if (typeof root._bokeh_onload_callbacks === \"undefined\" || force === true) {\n",
       "    root._bokeh_onload_callbacks = [];\n",
       "    root._bokeh_is_loading = undefined;\n",
       "  }\n",
       "\n",
       "  var JS_MIME_TYPE = 'application/javascript';\n",
       "  var HTML_MIME_TYPE = 'text/html';\n",
       "  var EXEC_MIME_TYPE = 'application/vnd.bokehjs_exec.v0+json';\n",
       "  var CLASS_NAME = 'output_bokeh rendered_html';\n",
       "\n",
       "  /**\n",
       "   * Render data to the DOM node\n",
       "   */\n",
       "  function render(props, node) {\n",
       "    var script = document.createElement(\"script\");\n",
       "    node.appendChild(script);\n",
       "  }\n",
       "\n",
       "  /**\n",
       "   * Handle when an output is cleared or removed\n",
       "   */\n",
       "  function handleClearOutput(event, handle) {\n",
       "    var cell = handle.cell;\n",
       "\n",
       "    var id = cell.output_area._bokeh_element_id;\n",
       "    var server_id = cell.output_area._bokeh_server_id;\n",
       "    // Clean up Bokeh references\n",
       "    if (id != null && id in Bokeh.index) {\n",
       "      Bokeh.index[id].model.document.clear();\n",
       "      delete Bokeh.index[id];\n",
       "    }\n",
       "\n",
       "    if (server_id !== undefined) {\n",
       "      // Clean up Bokeh references\n",
       "      var cmd = \"from bokeh.io.state import curstate; print(curstate().uuid_to_server['\" + server_id + \"'].get_sessions()[0].document.roots[0]._id)\";\n",
       "      cell.notebook.kernel.execute(cmd, {\n",
       "        iopub: {\n",
       "          output: function(msg) {\n",
       "            var id = msg.content.text.trim();\n",
       "            if (id in Bokeh.index) {\n",
       "              Bokeh.index[id].model.document.clear();\n",
       "              delete Bokeh.index[id];\n",
       "            }\n",
       "          }\n",
       "        }\n",
       "      });\n",
       "      // Destroy server and session\n",
       "      var cmd = \"import bokeh.io.notebook as ion; ion.destroy_server('\" + server_id + \"')\";\n",
       "      cell.notebook.kernel.execute(cmd);\n",
       "    }\n",
       "  }\n",
       "\n",
       "  /**\n",
       "   * Handle when a new output is added\n",
       "   */\n",
       "  function handleAddOutput(event, handle) {\n",
       "    var output_area = handle.output_area;\n",
       "    var output = handle.output;\n",
       "\n",
       "    // limit handleAddOutput to display_data with EXEC_MIME_TYPE content only\n",
       "    if ((output.output_type != \"display_data\") || (!output.data.hasOwnProperty(EXEC_MIME_TYPE))) {\n",
       "      return\n",
       "    }\n",
       "\n",
       "    var toinsert = output_area.element.find(\".\" + CLASS_NAME.split(' ')[0]);\n",
       "\n",
       "    if (output.metadata[EXEC_MIME_TYPE][\"id\"] !== undefined) {\n",
       "      toinsert[toinsert.length - 1].firstChild.textContent = output.data[JS_MIME_TYPE];\n",
       "      // store reference to embed id on output_area\n",
       "      output_area._bokeh_element_id = output.metadata[EXEC_MIME_TYPE][\"id\"];\n",
       "    }\n",
       "    if (output.metadata[EXEC_MIME_TYPE][\"server_id\"] !== undefined) {\n",
       "      var bk_div = document.createElement(\"div\");\n",
       "      bk_div.innerHTML = output.data[HTML_MIME_TYPE];\n",
       "      var script_attrs = bk_div.children[0].attributes;\n",
       "      for (var i = 0; i < script_attrs.length; i++) {\n",
       "        toinsert[toinsert.length - 1].firstChild.setAttribute(script_attrs[i].name, script_attrs[i].value);\n",
       "      }\n",
       "      // store reference to server id on output_area\n",
       "      output_area._bokeh_server_id = output.metadata[EXEC_MIME_TYPE][\"server_id\"];\n",
       "    }\n",
       "  }\n",
       "\n",
       "  function register_renderer(events, OutputArea) {\n",
       "\n",
       "    function append_mime(data, metadata, element) {\n",
       "      // create a DOM node to render to\n",
       "      var toinsert = this.create_output_subarea(\n",
       "        metadata,\n",
       "        CLASS_NAME,\n",
       "        EXEC_MIME_TYPE\n",
       "      );\n",
       "      this.keyboard_manager.register_events(toinsert);\n",
       "      // Render to node\n",
       "      var props = {data: data, metadata: metadata[EXEC_MIME_TYPE]};\n",
       "      render(props, toinsert[toinsert.length - 1]);\n",
       "      element.append(toinsert);\n",
       "      return toinsert\n",
       "    }\n",
       "\n",
       "    /* Handle when an output is cleared or removed */\n",
       "    events.on('clear_output.CodeCell', handleClearOutput);\n",
       "    events.on('delete.Cell', handleClearOutput);\n",
       "\n",
       "    /* Handle when a new output is added */\n",
       "    events.on('output_added.OutputArea', handleAddOutput);\n",
       "\n",
       "    /**\n",
       "     * Register the mime type and append_mime function with output_area\n",
       "     */\n",
       "    OutputArea.prototype.register_mime_type(EXEC_MIME_TYPE, append_mime, {\n",
       "      /* Is output safe? */\n",
       "      safe: true,\n",
       "      /* Index of renderer in `output_area.display_order` */\n",
       "      index: 0\n",
       "    });\n",
       "  }\n",
       "\n",
       "  // register the mime type if in Jupyter Notebook environment and previously unregistered\n",
       "  if (root.Jupyter !== undefined) {\n",
       "    var events = require('base/js/events');\n",
       "    var OutputArea = require('notebook/js/outputarea').OutputArea;\n",
       "\n",
       "    if (OutputArea.prototype.mime_types().indexOf(EXEC_MIME_TYPE) == -1) {\n",
       "      register_renderer(events, OutputArea);\n",
       "    }\n",
       "  }\n",
       "\n",
       "  \n",
       "  if (typeof (root._bokeh_timeout) === \"undefined\" || force === true) {\n",
       "    root._bokeh_timeout = Date.now() + 5000;\n",
       "    root._bokeh_failed_load = false;\n",
       "  }\n",
       "\n",
       "  var NB_LOAD_WARNING = {'data': {'text/html':\n",
       "     \"<div style='background-color: #fdd'>\\n\"+\n",
       "     \"<p>\\n\"+\n",
       "     \"BokehJS does not appear to have successfully loaded. If loading BokehJS from CDN, this \\n\"+\n",
       "     \"may be due to a slow or bad network connection. Possible fixes:\\n\"+\n",
       "     \"</p>\\n\"+\n",
       "     \"<ul>\\n\"+\n",
       "     \"<li>re-rerun `output_notebook()` to attempt to load from CDN again, or</li>\\n\"+\n",
       "     \"<li>use INLINE resources instead, as so:</li>\\n\"+\n",
       "     \"</ul>\\n\"+\n",
       "     \"<code>\\n\"+\n",
       "     \"from bokeh.resources import INLINE\\n\"+\n",
       "     \"output_notebook(resources=INLINE)\\n\"+\n",
       "     \"</code>\\n\"+\n",
       "     \"</div>\"}};\n",
       "\n",
       "  function display_loaded() {\n",
       "    var el = document.getElementById(\"1001\");\n",
       "    if (el != null) {\n",
       "      el.textContent = \"BokehJS is loading...\";\n",
       "    }\n",
       "    if (root.Bokeh !== undefined) {\n",
       "      if (el != null) {\n",
       "        el.textContent = \"BokehJS \" + root.Bokeh.version + \" successfully loaded.\";\n",
       "      }\n",
       "    } else if (Date.now() < root._bokeh_timeout) {\n",
       "      setTimeout(display_loaded, 100)\n",
       "    }\n",
       "  }\n",
       "\n",
       "\n",
       "  function run_callbacks() {\n",
       "    try {\n",
       "      root._bokeh_onload_callbacks.forEach(function(callback) {\n",
       "        if (callback != null)\n",
       "          callback();\n",
       "      });\n",
       "    } finally {\n",
       "      delete root._bokeh_onload_callbacks\n",
       "    }\n",
       "    console.debug(\"Bokeh: all callbacks have finished\");\n",
       "  }\n",
       "\n",
       "  function load_libs(css_urls, js_urls, callback) {\n",
       "    if (css_urls == null) css_urls = [];\n",
       "    if (js_urls == null) js_urls = [];\n",
       "\n",
       "    root._bokeh_onload_callbacks.push(callback);\n",
       "    if (root._bokeh_is_loading > 0) {\n",
       "      console.debug(\"Bokeh: BokehJS is being loaded, scheduling callback at\", now());\n",
       "      return null;\n",
       "    }\n",
       "    if (js_urls == null || js_urls.length === 0) {\n",
       "      run_callbacks();\n",
       "      return null;\n",
       "    }\n",
       "    console.debug(\"Bokeh: BokehJS not loaded, scheduling load and callback at\", now());\n",
       "    root._bokeh_is_loading = css_urls.length + js_urls.length;\n",
       "\n",
       "    function on_load() {\n",
       "      root._bokeh_is_loading--;\n",
       "      if (root._bokeh_is_loading === 0) {\n",
       "        console.debug(\"Bokeh: all BokehJS libraries/stylesheets loaded\");\n",
       "        run_callbacks()\n",
       "      }\n",
       "    }\n",
       "\n",
       "    function on_error() {\n",
       "      console.error(\"failed to load \" + url);\n",
       "    }\n",
       "\n",
       "    for (var i = 0; i < css_urls.length; i++) {\n",
       "      var url = css_urls[i];\n",
       "      const element = document.createElement(\"link\");\n",
       "      element.onload = on_load;\n",
       "      element.onerror = on_error;\n",
       "      element.rel = \"stylesheet\";\n",
       "      element.type = \"text/css\";\n",
       "      element.href = url;\n",
       "      console.debug(\"Bokeh: injecting link tag for BokehJS stylesheet: \", url);\n",
       "      document.body.appendChild(element);\n",
       "    }\n",
       "\n",
       "    for (var i = 0; i < js_urls.length; i++) {\n",
       "      var url = js_urls[i];\n",
       "      var element = document.createElement('script');\n",
       "      element.onload = on_load;\n",
       "      element.onerror = on_error;\n",
       "      element.async = false;\n",
       "      element.src = url;\n",
       "      console.debug(\"Bokeh: injecting script tag for BokehJS library: \", url);\n",
       "      document.head.appendChild(element);\n",
       "    }\n",
       "  };var element = document.getElementById(\"1001\");\n",
       "  if (element == null) {\n",
       "    console.error(\"Bokeh: ERROR: autoload.js configured with elementid '1001' but no matching script tag was found. \")\n",
       "    return false;\n",
       "  }\n",
       "\n",
       "  function inject_raw_css(css) {\n",
       "    const element = document.createElement(\"style\");\n",
       "    element.appendChild(document.createTextNode(css));\n",
       "    document.body.appendChild(element);\n",
       "  }\n",
       "\n",
       "  var js_urls = [\"https://cdn.pydata.org/bokeh/release/bokeh-1.2.0.min.js\", \"https://cdn.pydata.org/bokeh/release/bokeh-widgets-1.2.0.min.js\", \"https://cdn.pydata.org/bokeh/release/bokeh-tables-1.2.0.min.js\", \"https://cdn.pydata.org/bokeh/release/bokeh-gl-1.2.0.min.js\"];\n",
       "  var css_urls = [\"https://cdn.pydata.org/bokeh/release/bokeh-1.2.0.min.css\", \"https://cdn.pydata.org/bokeh/release/bokeh-widgets-1.2.0.min.css\", \"https://cdn.pydata.org/bokeh/release/bokeh-tables-1.2.0.min.css\"];\n",
       "\n",
       "  var inline_js = [\n",
       "    function(Bokeh) {\n",
       "      Bokeh.set_log_level(\"info\");\n",
       "    },\n",
       "    \n",
       "    function(Bokeh) {\n",
       "      \n",
       "    },\n",
       "    function(Bokeh) {} // ensure no trailing comma for IE\n",
       "  ];\n",
       "\n",
       "  function run_inline_js() {\n",
       "    \n",
       "    if ((root.Bokeh !== undefined) || (force === true)) {\n",
       "      for (var i = 0; i < inline_js.length; i++) {\n",
       "        inline_js[i].call(root, root.Bokeh);\n",
       "      }if (force === true) {\n",
       "        display_loaded();\n",
       "      }} else if (Date.now() < root._bokeh_timeout) {\n",
       "      setTimeout(run_inline_js, 100);\n",
       "    } else if (!root._bokeh_failed_load) {\n",
       "      console.log(\"Bokeh: BokehJS failed to load within specified timeout.\");\n",
       "      root._bokeh_failed_load = true;\n",
       "    } else if (force !== true) {\n",
       "      var cell = $(document.getElementById(\"1001\")).parents('.cell').data().cell;\n",
       "      cell.output_area.append_execute_result(NB_LOAD_WARNING)\n",
       "    }\n",
       "\n",
       "  }\n",
       "\n",
       "  if (root._bokeh_is_loading === 0) {\n",
       "    console.debug(\"Bokeh: BokehJS loaded, going straight to plotting\");\n",
       "    run_inline_js();\n",
       "  } else {\n",
       "    load_libs(css_urls, js_urls, function() {\n",
       "      console.debug(\"Bokeh: BokehJS plotting callback run at\", now());\n",
       "      run_inline_js();\n",
       "    });\n",
       "  }\n",
       "}(window));"
      ],
      "application/vnd.bokehjs_load.v0+json": "\n(function(root) {\n  function now() {\n    return new Date();\n  }\n\n  var force = true;\n\n  if (typeof root._bokeh_onload_callbacks === \"undefined\" || force === true) {\n    root._bokeh_onload_callbacks = [];\n    root._bokeh_is_loading = undefined;\n  }\n\n  \n\n  \n  if (typeof (root._bokeh_timeout) === \"undefined\" || force === true) {\n    root._bokeh_timeout = Date.now() + 5000;\n    root._bokeh_failed_load = false;\n  }\n\n  var NB_LOAD_WARNING = {'data': {'text/html':\n     \"<div style='background-color: #fdd'>\\n\"+\n     \"<p>\\n\"+\n     \"BokehJS does not appear to have successfully loaded. If loading BokehJS from CDN, this \\n\"+\n     \"may be due to a slow or bad network connection. Possible fixes:\\n\"+\n     \"</p>\\n\"+\n     \"<ul>\\n\"+\n     \"<li>re-rerun `output_notebook()` to attempt to load from CDN again, or</li>\\n\"+\n     \"<li>use INLINE resources instead, as so:</li>\\n\"+\n     \"</ul>\\n\"+\n     \"<code>\\n\"+\n     \"from bokeh.resources import INLINE\\n\"+\n     \"output_notebook(resources=INLINE)\\n\"+\n     \"</code>\\n\"+\n     \"</div>\"}};\n\n  function display_loaded() {\n    var el = document.getElementById(\"1001\");\n    if (el != null) {\n      el.textContent = \"BokehJS is loading...\";\n    }\n    if (root.Bokeh !== undefined) {\n      if (el != null) {\n        el.textContent = \"BokehJS \" + root.Bokeh.version + \" successfully loaded.\";\n      }\n    } else if (Date.now() < root._bokeh_timeout) {\n      setTimeout(display_loaded, 100)\n    }\n  }\n\n\n  function run_callbacks() {\n    try {\n      root._bokeh_onload_callbacks.forEach(function(callback) {\n        if (callback != null)\n          callback();\n      });\n    } finally {\n      delete root._bokeh_onload_callbacks\n    }\n    console.debug(\"Bokeh: all callbacks have finished\");\n  }\n\n  function load_libs(css_urls, js_urls, callback) {\n    if (css_urls == null) css_urls = [];\n    if (js_urls == null) js_urls = [];\n\n    root._bokeh_onload_callbacks.push(callback);\n    if (root._bokeh_is_loading > 0) {\n      console.debug(\"Bokeh: BokehJS is being loaded, scheduling callback at\", now());\n      return null;\n    }\n    if (js_urls == null || js_urls.length === 0) {\n      run_callbacks();\n      return null;\n    }\n    console.debug(\"Bokeh: BokehJS not loaded, scheduling load and callback at\", now());\n    root._bokeh_is_loading = css_urls.length + js_urls.length;\n\n    function on_load() {\n      root._bokeh_is_loading--;\n      if (root._bokeh_is_loading === 0) {\n        console.debug(\"Bokeh: all BokehJS libraries/stylesheets loaded\");\n        run_callbacks()\n      }\n    }\n\n    function on_error() {\n      console.error(\"failed to load \" + url);\n    }\n\n    for (var i = 0; i < css_urls.length; i++) {\n      var url = css_urls[i];\n      const element = document.createElement(\"link\");\n      element.onload = on_load;\n      element.onerror = on_error;\n      element.rel = \"stylesheet\";\n      element.type = \"text/css\";\n      element.href = url;\n      console.debug(\"Bokeh: injecting link tag for BokehJS stylesheet: \", url);\n      document.body.appendChild(element);\n    }\n\n    for (var i = 0; i < js_urls.length; i++) {\n      var url = js_urls[i];\n      var element = document.createElement('script');\n      element.onload = on_load;\n      element.onerror = on_error;\n      element.async = false;\n      element.src = url;\n      console.debug(\"Bokeh: injecting script tag for BokehJS library: \", url);\n      document.head.appendChild(element);\n    }\n  };var element = document.getElementById(\"1001\");\n  if (element == null) {\n    console.error(\"Bokeh: ERROR: autoload.js configured with elementid '1001' but no matching script tag was found. \")\n    return false;\n  }\n\n  function inject_raw_css(css) {\n    const element = document.createElement(\"style\");\n    element.appendChild(document.createTextNode(css));\n    document.body.appendChild(element);\n  }\n\n  var js_urls = [\"https://cdn.pydata.org/bokeh/release/bokeh-1.2.0.min.js\", \"https://cdn.pydata.org/bokeh/release/bokeh-widgets-1.2.0.min.js\", \"https://cdn.pydata.org/bokeh/release/bokeh-tables-1.2.0.min.js\", \"https://cdn.pydata.org/bokeh/release/bokeh-gl-1.2.0.min.js\"];\n  var css_urls = [\"https://cdn.pydata.org/bokeh/release/bokeh-1.2.0.min.css\", \"https://cdn.pydata.org/bokeh/release/bokeh-widgets-1.2.0.min.css\", \"https://cdn.pydata.org/bokeh/release/bokeh-tables-1.2.0.min.css\"];\n\n  var inline_js = [\n    function(Bokeh) {\n      Bokeh.set_log_level(\"info\");\n    },\n    \n    function(Bokeh) {\n      \n    },\n    function(Bokeh) {} // ensure no trailing comma for IE\n  ];\n\n  function run_inline_js() {\n    \n    if ((root.Bokeh !== undefined) || (force === true)) {\n      for (var i = 0; i < inline_js.length; i++) {\n        inline_js[i].call(root, root.Bokeh);\n      }if (force === true) {\n        display_loaded();\n      }} else if (Date.now() < root._bokeh_timeout) {\n      setTimeout(run_inline_js, 100);\n    } else if (!root._bokeh_failed_load) {\n      console.log(\"Bokeh: BokehJS failed to load within specified timeout.\");\n      root._bokeh_failed_load = true;\n    } else if (force !== true) {\n      var cell = $(document.getElementById(\"1001\")).parents('.cell').data().cell;\n      cell.output_area.append_execute_result(NB_LOAD_WARNING)\n    }\n\n  }\n\n  if (root._bokeh_is_loading === 0) {\n    console.debug(\"Bokeh: BokehJS loaded, going straight to plotting\");\n    run_inline_js();\n  } else {\n    load_libs(css_urls, js_urls, function() {\n      console.debug(\"Bokeh: BokehJS plotting callback run at\", now());\n      run_inline_js();\n    });\n  }\n}(window));"
     },
     "metadata": {},
     "output_type": "display_data"
    }
   ],
   "source": [
    "import numpy as np\n",
    "import pandas as pd\n",
    "\n",
    "from bokeh.io import output_notebook, show\n",
    "from bokeh.plotting import figure\n",
    "from bokeh.core.properties import value\n",
    "from bokeh.palettes import Spectral6, Greys, RdGy, Blues, Greys256, GnBu3\n",
    "from bokeh.models import ColumnDataSource, Title, Label, LabelSet, Slope, Span, BoxAnnotation, PrintfTickFormatter, Legend\n",
    "from bokeh.transform import dodge, linear_cmap\n",
    "from bokeh.models.glyphs import Text\n",
    "\n",
    "output_notebook()"
   ]
  },
  {
   "cell_type": "markdown",
   "metadata": {},
   "source": [
    "## Graficos "
   ]
  },
  {
   "cell_type": "markdown",
   "metadata": {},
   "source": [
    "### Figura 1"
   ]
  },
  {
   "cell_type": "markdown",
   "metadata": {},
   "source": [
    "<img src=\"../images/figura_1.png\">"
   ]
  },
  {
   "cell_type": "markdown",
   "metadata": {
    "heading_collapsed": true
   },
   "source": [
    "#### Reshape "
   ]
  },
  {
   "cell_type": "code",
   "execution_count": 8,
   "metadata": {
    "hidden": true
   },
   "outputs": [
    {
     "data": {
      "text/plain": [
       "(5, 5)"
      ]
     },
     "execution_count": 8,
     "metadata": {},
     "output_type": "execute_result"
    }
   ],
   "source": [
    "figura_1 = pd.read_csv('../data/data_figura_1.csv')\n",
    "figura_1.shape"
   ]
  },
  {
   "cell_type": "code",
   "execution_count": 9,
   "metadata": {
    "hidden": true
   },
   "outputs": [
    {
     "data": {
      "text/html": [
       "<div>\n",
       "<style scoped>\n",
       "    .dataframe tbody tr th:only-of-type {\n",
       "        vertical-align: middle;\n",
       "    }\n",
       "\n",
       "    .dataframe tbody tr th {\n",
       "        vertical-align: top;\n",
       "    }\n",
       "\n",
       "    .dataframe thead th {\n",
       "        text-align: right;\n",
       "    }\n",
       "</style>\n",
       "<table border=\"1\" class=\"dataframe\">\n",
       "  <thead>\n",
       "    <tr style=\"text-align: right;\">\n",
       "      <th></th>\n",
       "      <th>interest</th>\n",
       "      <th>before</th>\n",
       "      <th>after</th>\n",
       "      <th>formatted_before</th>\n",
       "      <th>formatted_after</th>\n",
       "    </tr>\n",
       "  </thead>\n",
       "  <tbody>\n",
       "    <tr>\n",
       "      <th>0</th>\n",
       "      <td>Bored</td>\n",
       "      <td>11</td>\n",
       "      <td>12</td>\n",
       "      <td>11%</td>\n",
       "      <td>12%</td>\n",
       "    </tr>\n",
       "    <tr>\n",
       "      <th>1</th>\n",
       "      <td>Not great</td>\n",
       "      <td>5</td>\n",
       "      <td>6</td>\n",
       "      <td>5%</td>\n",
       "      <td>6%</td>\n",
       "    </tr>\n",
       "    <tr>\n",
       "      <th>2</th>\n",
       "      <td>OK</td>\n",
       "      <td>40</td>\n",
       "      <td>14</td>\n",
       "      <td>40%</td>\n",
       "      <td>14%</td>\n",
       "    </tr>\n",
       "    <tr>\n",
       "      <th>3</th>\n",
       "      <td>Kind of interested</td>\n",
       "      <td>25</td>\n",
       "      <td>30</td>\n",
       "      <td>25%</td>\n",
       "      <td>30%</td>\n",
       "    </tr>\n",
       "    <tr>\n",
       "      <th>4</th>\n",
       "      <td>Excited</td>\n",
       "      <td>19</td>\n",
       "      <td>38</td>\n",
       "      <td>19%</td>\n",
       "      <td>38%</td>\n",
       "    </tr>\n",
       "  </tbody>\n",
       "</table>\n",
       "</div>"
      ],
      "text/plain": [
       "             interest  before  after formatted_before formatted_after\n",
       "0               Bored      11     12              11%             12%\n",
       "1           Not great       5      6               5%              6%\n",
       "2                  OK      40     14              40%             14%\n",
       "3  Kind of interested      25     30              25%             30%\n",
       "4             Excited      19     38              19%             38%"
      ]
     },
     "execution_count": 9,
     "metadata": {},
     "output_type": "execute_result"
    }
   ],
   "source": [
    "figura_1.head()"
   ]
  },
  {
   "cell_type": "markdown",
   "metadata": {},
   "source": [
    "#### Plot"
   ]
  },
  {
   "cell_type": "code",
   "execution_count": 14,
   "metadata": {},
   "outputs": [
    {
     "data": {
      "text/html": [
       "\n",
       "\n",
       "\n",
       "\n",
       "\n",
       "\n",
       "  <div class=\"bk-root\" id=\"5e968bf5-f8d4-4005-8964-d8babbb4b93e\" data-root-id=\"1142\"></div>\n"
      ]
     },
     "metadata": {},
     "output_type": "display_data"
    },
    {
     "data": {
      "application/javascript": [
       "(function(root) {\n",
       "  function embed_document(root) {\n",
       "    \n",
       "  var docs_json = {\"83bf7756-299d-48c1-9ee5-a76c01b16e84\":{\"roots\":{\"references\":[{\"attributes\":{\"above\":[{\"id\":\"1175\",\"type\":\"Title\"}],\"below\":[{\"id\":\"1153\",\"type\":\"CategoricalAxis\"},{\"id\":\"1176\",\"type\":\"Title\"}],\"center\":[{\"id\":\"1156\",\"type\":\"Grid\"},{\"id\":\"1161\",\"type\":\"Grid\"},{\"id\":\"1177\",\"type\":\"LabelSet\"},{\"id\":\"1179\",\"type\":\"LabelSet\"}],\"left\":[{\"id\":\"1157\",\"type\":\"LinearAxis\"}],\"plot_height\":450,\"plot_width\":510,\"renderers\":[{\"id\":\"1167\",\"type\":\"GlyphRenderer\"},{\"id\":\"1173\",\"type\":\"GlyphRenderer\"},{\"id\":\"1184\",\"type\":\"GlyphRenderer\"},{\"id\":\"1189\",\"type\":\"GlyphRenderer\"}],\"title\":{\"id\":\"1143\",\"type\":\"Title\"},\"toolbar\":{\"id\":\"1162\",\"type\":\"Toolbar\"},\"toolbar_location\":null,\"x_range\":{\"id\":\"1145\",\"type\":\"FactorRange\"},\"x_scale\":{\"id\":\"1149\",\"type\":\"CategoricalScale\"},\"y_range\":{\"id\":\"1147\",\"type\":\"Range1d\"},\"y_scale\":{\"id\":\"1151\",\"type\":\"LinearScale\"}},\"id\":\"1142\",\"subtype\":\"Figure\",\"type\":\"Plot\"},{\"attributes\":{\"high\":38,\"low\":6,\"palette\":[\"#6699CC\",\"#0067a5\"]},\"id\":\"1140\",\"type\":\"LinearColorMapper\"},{\"attributes\":{\"fill_color\":{\"field\":\"after\",\"transform\":{\"id\":\"1140\",\"type\":\"LinearColorMapper\"}},\"line_color\":{\"field\":\"after\",\"transform\":{\"id\":\"1140\",\"type\":\"LinearColorMapper\"}},\"top\":{\"field\":\"after\"},\"width\":{\"value\":0.45},\"x\":{\"field\":\"interest\",\"transform\":{\"id\":\"1169\",\"type\":\"Dodge\"}}},\"id\":\"1171\",\"type\":\"VBar\"},{\"attributes\":{\"text_alpha\":{\"value\":0.1},\"text_color\":{\"value\":\"black\"},\"text_font_size\":{\"value\":\"9pt\"},\"text_font_style\":\"bold\",\"x\":{\"value\":1},\"x_offset\":{\"value\":-95},\"y\":{\"value\":40}},\"id\":\"1183\",\"type\":\"Text\"},{\"attributes\":{\"text_alpha\":{\"value\":0.1},\"text_color\":{\"value\":\"black\"},\"text_font_size\":{\"value\":\"9pt\"},\"text_font_style\":\"bold\",\"x\":{\"value\":5},\"x_offset\":{\"value\":-100},\"y\":{\"value\":45}},\"id\":\"1188\",\"type\":\"Text\"},{\"attributes\":{\"source\":{\"id\":\"1141\",\"type\":\"ColumnDataSource\"}},\"id\":\"1168\",\"type\":\"CDSView\"},{\"attributes\":{\"text\":\"How do you feel about science?\",\"text_color\":{\"value\":\"black\"},\"text_font_size\":{\"value\":\"11pt\"},\"text_font_style\":\"normal\"},\"id\":\"1175\",\"type\":\"Title\"},{\"attributes\":{\"fill_alpha\":{\"value\":0.1},\"fill_color\":{\"value\":\"#1f77b4\"},\"line_alpha\":{\"value\":0.1},\"line_color\":{\"value\":\"#1f77b4\"},\"top\":{\"field\":\"before\"},\"width\":{\"value\":0.45},\"x\":{\"field\":\"interest\",\"transform\":{\"id\":\"1163\",\"type\":\"Dodge\"}}},\"id\":\"1166\",\"type\":\"VBar\"},{\"attributes\":{\"dimension\":1,\"grid_line_color\":null,\"ticker\":{\"id\":\"1158\",\"type\":\"BasicTicker\"}},\"id\":\"1161\",\"type\":\"Grid\"},{\"attributes\":{\"text\":\"Based on survey of 100 students conducted before and after pilot program (100% response rate on both surveys).\",\"text_color\":{\"value\":\"#9c9c9c\"},\"text_font_size\":{\"value\":\"7pt\"}},\"id\":\"1176\",\"type\":\"Title\"},{\"attributes\":{\"source\":{\"id\":\"1186\",\"type\":\"ColumnDataSource\"}},\"id\":\"1190\",\"type\":\"CDSView\"},{\"attributes\":{\"fill_alpha\":{\"value\":0.1},\"fill_color\":{\"value\":\"#1f77b4\"},\"line_alpha\":{\"value\":0.1},\"line_color\":{\"value\":\"#1f77b4\"},\"top\":{\"field\":\"after\"},\"width\":{\"value\":0.45},\"x\":{\"field\":\"interest\",\"transform\":{\"id\":\"1169\",\"type\":\"Dodge\"}}},\"id\":\"1172\",\"type\":\"VBar\"},{\"attributes\":{\"text_color\":{\"value\":\"#0067a5\"},\"text_font_size\":{\"value\":\"9pt\"},\"text_font_style\":\"bold\",\"x\":{\"value\":5},\"x_offset\":{\"value\":-100},\"y\":{\"value\":45}},\"id\":\"1187\",\"type\":\"Text\"},{\"attributes\":{\"data_source\":{\"id\":\"1186\",\"type\":\"ColumnDataSource\"},\"glyph\":{\"id\":\"1187\",\"type\":\"Text\"},\"hover_glyph\":null,\"muted_glyph\":null,\"nonselection_glyph\":{\"id\":\"1188\",\"type\":\"Text\"},\"selection_glyph\":null,\"view\":{\"id\":\"1190\",\"type\":\"CDSView\"}},\"id\":\"1189\",\"type\":\"GlyphRenderer\"},{\"attributes\":{\"high\":40,\"high_color\":\"#828282\",\"low\":5,\"palette\":[\"#9c9c9c\",\"#828282\"]},\"id\":\"1139\",\"type\":\"LinearColorMapper\"},{\"attributes\":{\"source\":{\"id\":\"1141\",\"type\":\"ColumnDataSource\"}},\"id\":\"1174\",\"type\":\"CDSView\"},{\"attributes\":{},\"id\":\"1208\",\"type\":\"Selection\"},{\"attributes\":{\"formatter\":{\"id\":\"1203\",\"type\":\"BasicTickFormatter\"},\"ticker\":{\"id\":\"1158\",\"type\":\"BasicTicker\"},\"visible\":false},\"id\":\"1157\",\"type\":\"LinearAxis\"},{\"attributes\":{},\"id\":\"1151\",\"type\":\"LinearScale\"},{\"attributes\":{},\"id\":\"1210\",\"type\":\"Selection\"},{\"attributes\":{\"data_source\":{\"id\":\"1141\",\"type\":\"ColumnDataSource\"},\"glyph\":{\"id\":\"1165\",\"type\":\"VBar\"},\"hover_glyph\":null,\"muted_glyph\":null,\"nonselection_glyph\":{\"id\":\"1166\",\"type\":\"VBar\"},\"selection_glyph\":null,\"view\":{\"id\":\"1168\",\"type\":\"CDSView\"}},\"id\":\"1167\",\"type\":\"GlyphRenderer\"},{\"attributes\":{},\"id\":\"1154\",\"type\":\"CategoricalTicker\"},{\"attributes\":{\"callback\":null,\"factors\":[\"Bored\",\"Not great\",\"OK\",\"Kind of interested\",\"Excited\"]},\"id\":\"1145\",\"type\":\"FactorRange\"},{\"attributes\":{},\"id\":\"1158\",\"type\":\"BasicTicker\"},{\"attributes\":{},\"id\":\"1207\",\"type\":\"UnionRenderers\"},{\"attributes\":{\"active_drag\":\"auto\",\"active_inspect\":\"auto\",\"active_multi\":null,\"active_scroll\":\"auto\",\"active_tap\":\"auto\"},\"id\":\"1162\",\"type\":\"Toolbar\"},{\"attributes\":{},\"id\":\"1205\",\"type\":\"CategoricalTickFormatter\"},{\"attributes\":{\"data_source\":{\"id\":\"1141\",\"type\":\"ColumnDataSource\"},\"glyph\":{\"id\":\"1171\",\"type\":\"VBar\"},\"hover_glyph\":null,\"muted_glyph\":null,\"nonselection_glyph\":{\"id\":\"1172\",\"type\":\"VBar\"},\"selection_glyph\":null,\"view\":{\"id\":\"1174\",\"type\":\"CDSView\"}},\"id\":\"1173\",\"type\":\"GlyphRenderer\"},{\"attributes\":{\"callback\":null,\"end\":70},\"id\":\"1147\",\"type\":\"Range1d\"},{\"attributes\":{\"callback\":null,\"data\":{\"text\":[\"BEFORE program, the \\nmajority of children felt \\njust OK about Science.\"]},\"selected\":{\"id\":\"1210\",\"type\":\"Selection\"},\"selection_policy\":{\"id\":\"1209\",\"type\":\"UnionRenderers\"}},\"id\":\"1181\",\"type\":\"ColumnDataSource\"},{\"attributes\":{\"source\":{\"id\":\"1141\",\"type\":\"ColumnDataSource\"},\"text\":{\"field\":\"formatted_before\"},\"text_baseline\":\"top\",\"text_color\":{\"value\":\"white\"},\"x\":{\"field\":\"interest\"},\"x_offset\":{\"value\":-40},\"y\":{\"field\":\"before\"},\"y_offset\":{\"value\":-5}},\"id\":\"1179\",\"type\":\"LabelSet\"},{\"attributes\":{\"fill_color\":{\"field\":\"before\",\"transform\":{\"id\":\"1139\",\"type\":\"LinearColorMapper\"}},\"line_color\":{\"field\":\"before\",\"transform\":{\"id\":\"1139\",\"type\":\"LinearColorMapper\"}},\"top\":{\"field\":\"before\"},\"width\":{\"value\":0.45},\"x\":{\"field\":\"interest\",\"transform\":{\"id\":\"1163\",\"type\":\"Dodge\"}}},\"id\":\"1165\",\"type\":\"VBar\"},{\"attributes\":{},\"id\":\"1209\",\"type\":\"UnionRenderers\"},{\"attributes\":{},\"id\":\"1149\",\"type\":\"CategoricalScale\"},{\"attributes\":{},\"id\":\"1212\",\"type\":\"Selection\"},{\"attributes\":{\"background_fill_color\":{\"value\":\"#828282\"},\"text\":\"Pilot program was a success\",\"text_color\":{\"value\":\"white\"},\"text_font_size\":{\"value\":\"15pt\"},\"text_font_style\":\"normal\"},\"id\":\"1143\",\"type\":\"Title\"},{\"attributes\":{\"callback\":null,\"data\":{\"text\":[\"AFTER program, \\nmore children \\nwere Kind of \\ninterested & \\nExcited about \\nScience.\"]},\"selected\":{\"id\":\"1212\",\"type\":\"Selection\"},\"selection_policy\":{\"id\":\"1211\",\"type\":\"UnionRenderers\"}},\"id\":\"1186\",\"type\":\"ColumnDataSource\"},{\"attributes\":{\"range\":{\"id\":\"1145\",\"type\":\"FactorRange\"},\"value\":0.23},\"id\":\"1169\",\"type\":\"Dodge\"},{\"attributes\":{\"axis_line_color\":{\"value\":null},\"formatter\":{\"id\":\"1205\",\"type\":\"CategoricalTickFormatter\"},\"major_label_text_color\":{\"value\":\"#9c9c9c\"},\"major_label_text_font_size\":{\"value\":\"11pt\"},\"major_label_text_font_style\":\"bold\",\"major_tick_line_color\":{\"value\":null},\"ticker\":{\"id\":\"1154\",\"type\":\"CategoricalTicker\"}},\"id\":\"1153\",\"type\":\"CategoricalAxis\"},{\"attributes\":{},\"id\":\"1211\",\"type\":\"UnionRenderers\"},{\"attributes\":{\"source\":{\"id\":\"1141\",\"type\":\"ColumnDataSource\"},\"text\":{\"field\":\"formatted_after\"},\"text_baseline\":\"top\",\"text_color\":{\"value\":\"white\"},\"x\":{\"field\":\"interest\"},\"x_offset\":{\"value\":5},\"y\":{\"field\":\"after\"},\"y_offset\":{\"value\":-5}},\"id\":\"1177\",\"type\":\"LabelSet\"},{\"attributes\":{\"callback\":null,\"data\":{\"after\":[12,6,14,30,38],\"before\":[11,5,40,25,19],\"formatted_after\":[\"12%\",\"6%\",\"14%\",\"30%\",\"38%\"],\"formatted_before\":[\"11%\",\"5%\",\"40%\",\"25%\",\"19%\"],\"index\":[0,1,2,3,4],\"interest\":[\"Bored\",\"Not great\",\"OK\",\"Kind of interested\",\"Excited\"]},\"selected\":{\"id\":\"1208\",\"type\":\"Selection\"},\"selection_policy\":{\"id\":\"1207\",\"type\":\"UnionRenderers\"}},\"id\":\"1141\",\"type\":\"ColumnDataSource\"},{\"attributes\":{\"text_color\":{\"value\":\"#828282\"},\"text_font_size\":{\"value\":\"9pt\"},\"text_font_style\":\"bold\",\"x\":{\"value\":1},\"x_offset\":{\"value\":-95},\"y\":{\"value\":40}},\"id\":\"1182\",\"type\":\"Text\"},{\"attributes\":{},\"id\":\"1203\",\"type\":\"BasicTickFormatter\"},{\"attributes\":{\"grid_line_color\":null,\"ticker\":{\"id\":\"1154\",\"type\":\"CategoricalTicker\"}},\"id\":\"1156\",\"type\":\"Grid\"},{\"attributes\":{\"source\":{\"id\":\"1181\",\"type\":\"ColumnDataSource\"}},\"id\":\"1185\",\"type\":\"CDSView\"},{\"attributes\":{\"range\":{\"id\":\"1145\",\"type\":\"FactorRange\"},\"value\":-0.23},\"id\":\"1163\",\"type\":\"Dodge\"},{\"attributes\":{\"data_source\":{\"id\":\"1181\",\"type\":\"ColumnDataSource\"},\"glyph\":{\"id\":\"1182\",\"type\":\"Text\"},\"hover_glyph\":null,\"muted_glyph\":null,\"nonselection_glyph\":{\"id\":\"1183\",\"type\":\"Text\"},\"selection_glyph\":null,\"view\":{\"id\":\"1185\",\"type\":\"CDSView\"}},\"id\":\"1184\",\"type\":\"GlyphRenderer\"}],\"root_ids\":[\"1142\"]},\"title\":\"Bokeh Application\",\"version\":\"1.2.0\"}};\n",
       "  var render_items = [{\"docid\":\"83bf7756-299d-48c1-9ee5-a76c01b16e84\",\"roots\":{\"1142\":\"5e968bf5-f8d4-4005-8964-d8babbb4b93e\"}}];\n",
       "  root.Bokeh.embed.embed_items_notebook(docs_json, render_items);\n",
       "\n",
       "  }\n",
       "  if (root.Bokeh !== undefined) {\n",
       "    embed_document(root);\n",
       "  } else {\n",
       "    var attempts = 0;\n",
       "    var timer = setInterval(function(root) {\n",
       "      if (root.Bokeh !== undefined) {\n",
       "        embed_document(root);\n",
       "        clearInterval(timer);\n",
       "      }\n",
       "      attempts++;\n",
       "      if (attempts > 100) {\n",
       "        console.log(\"Bokeh: ERROR: Unable to run BokehJS code because BokehJS library is missing\");\n",
       "        clearInterval(timer);\n",
       "      }\n",
       "    }, 10, root)\n",
       "  }\n",
       "})(window);"
      ],
      "application/vnd.bokehjs_exec.v0+json": ""
     },
     "metadata": {
      "application/vnd.bokehjs_exec.v0+json": {
       "id": "1142"
      }
     },
     "output_type": "display_data"
    }
   ],
   "source": [
    "# Para modificar el color segun el valor\n",
    "y1 = list(figura_1['before'])\n",
    "y2 = list(figura_1['after'])\n",
    "\n",
    "mapper_1 = linear_cmap(field_name='before', palette=['#9c9c9c', '#828282'], high_color='#828282', low=min(y1) ,high=max(y1))\n",
    "mapper_2 = linear_cmap(field_name='after', palette=['#6699CC', '#0067a5'], low=min(y2) ,high=max(y2))\n",
    "\n",
    "# Instanciamos la figura\n",
    "source = ColumnDataSource(figura_1)\n",
    "\n",
    "p = figure(x_range=list(figura_1['interest']), y_range=(0, 70), plot_height=450, plot_width=510, \n",
    "           title='Pilot program was a success', toolbar_location=None, tools=\"\")\n",
    "\n",
    "\n",
    "# Barras\n",
    "p.vbar(x=dodge('interest', -0.23, range=p.x_range), color=mapper_1, top='before', width=0.45, source=source)\n",
    "\n",
    "p.vbar(x=dodge('interest',  0.23,  range=p.x_range), color=mapper_2, top='after', width=0.45, source=source)\n",
    "\n",
    "\n",
    "# Titulos\n",
    "p.add_layout(Title(text=\"How do you feel about science?\", \n",
    "                   align=\"left\", text_font_size='11pt', text_color='black', text_font_style = 'normal'), \"above\")\n",
    "p.add_layout(Title(text=\"Based on survey of 100 students conducted before and after pilot program (100% response rate on both surveys).\", \n",
    "                   align=\"left\", text_font_size='7pt', text_color='#9c9c9c'), \"below\")\n",
    "\n",
    "\n",
    "# Label en las barras\n",
    "p.add_layout(LabelSet(x='interest', y='after', x_offset=5, y_offset=-5, text='formatted_after', background_fill_alpha=1, text_color='white',\n",
    "                   text_baseline='top', source=source, render_mode='canvas'))\n",
    "p.add_layout(LabelSet(x='interest', y='before', x_offset=-40, y_offset=-5, text='formatted_before', background_fill_alpha=1, text_color='white',\n",
    "                   text_baseline='top', source=source, render_mode='canvas'))\n",
    "\n",
    "\n",
    "# Anotaciones en texto\n",
    "p.text(x=1, y =40, x_offset=-95, text=['BEFORE program, the \\nmajority of children felt \\njust OK about Science.'], text_font_size='9pt', text_color='#828282', text_font_style='bold')\n",
    "p.text(x=5, y =45, x_offset=-100, text=['AFTER program, \\nmore children \\nwere Kind of \\ninterested & \\nExcited about \\nScience.'], text_font_size='9pt', text_color='#0067a5', text_font_style='bold')\n",
    "\n",
    "\n",
    "# Atributos del titulo\n",
    "p.title.text_color = 'white'\n",
    "p.title.background_fill_color = '#828282'\n",
    "p.title.text_font_size = '15pt'\n",
    "p.title.text_font_style = 'normal'\n",
    "\n",
    "\n",
    "# Eje X\n",
    "p.xaxis.axis_line_color = None\n",
    "p.xgrid.grid_line_color = None\n",
    "p.x_range.range_padding = 0\n",
    "p.xaxis.major_tick_line_color = None\n",
    "p.xaxis.major_label_text_color = '#9c9c9c'\n",
    "p.xaxis.major_label_text_font_size = '11pt'\n",
    "p.xaxis.major_label_text_font_style = 'bold'\n",
    "\n",
    "\n",
    "# Eje Y\n",
    "p.yaxis.visible=False\n",
    "p.ygrid.grid_line_color=None\n",
    "\n",
    "show(p)"
   ]
  },
  {
   "cell_type": "markdown",
   "metadata": {},
   "source": [
    "### Figura 2 "
   ]
  },
  {
   "cell_type": "markdown",
   "metadata": {},
   "source": [
    "<img src=\"../images/figura_2.png\">"
   ]
  },
  {
   "cell_type": "markdown",
   "metadata": {
    "heading_collapsed": true
   },
   "source": [
    "#### Reshape "
   ]
  },
  {
   "cell_type": "code",
   "execution_count": 25,
   "metadata": {
    "hidden": true
   },
   "outputs": [
    {
     "data": {
      "text/plain": [
       "(2, 12)"
      ]
     },
     "execution_count": 25,
     "metadata": {},
     "output_type": "execute_result"
    }
   ],
   "source": [
    "# Creamos dataframe para graficar\n",
    "figura_2 = pd.read_csv('../data/data_figura_2.csv', index_col='State')\n",
    "figura_2.shape"
   ]
  },
  {
   "cell_type": "code",
   "execution_count": 26,
   "metadata": {
    "hidden": true
   },
   "outputs": [
    {
     "data": {
      "text/html": [
       "<div>\n",
       "<style scoped>\n",
       "    .dataframe tbody tr th:only-of-type {\n",
       "        vertical-align: middle;\n",
       "    }\n",
       "\n",
       "    .dataframe tbody tr th {\n",
       "        vertical-align: top;\n",
       "    }\n",
       "\n",
       "    .dataframe thead th {\n",
       "        text-align: right;\n",
       "    }\n",
       "</style>\n",
       "<table border=\"1\" class=\"dataframe\">\n",
       "  <thead>\n",
       "    <tr style=\"text-align: right;\">\n",
       "      <th></th>\n",
       "      <th>Jan</th>\n",
       "      <th>Feb</th>\n",
       "      <th>Mar</th>\n",
       "      <th>Apr</th>\n",
       "      <th>May</th>\n",
       "      <th>Jun</th>\n",
       "      <th>Jul</th>\n",
       "      <th>Aug</th>\n",
       "      <th>Sep</th>\n",
       "      <th>Oct</th>\n",
       "      <th>Nov</th>\n",
       "      <th>Dec</th>\n",
       "    </tr>\n",
       "    <tr>\n",
       "      <th>State</th>\n",
       "      <th></th>\n",
       "      <th></th>\n",
       "      <th></th>\n",
       "      <th></th>\n",
       "      <th></th>\n",
       "      <th></th>\n",
       "      <th></th>\n",
       "      <th></th>\n",
       "      <th></th>\n",
       "      <th></th>\n",
       "      <th></th>\n",
       "      <th></th>\n",
       "    </tr>\n",
       "  </thead>\n",
       "  <tbody>\n",
       "    <tr>\n",
       "      <th>Received</th>\n",
       "      <td>160</td>\n",
       "      <td>184</td>\n",
       "      <td>241</td>\n",
       "      <td>149</td>\n",
       "      <td>180</td>\n",
       "      <td>161</td>\n",
       "      <td>132</td>\n",
       "      <td>202</td>\n",
       "      <td>160</td>\n",
       "      <td>139</td>\n",
       "      <td>149</td>\n",
       "      <td>177</td>\n",
       "    </tr>\n",
       "    <tr>\n",
       "      <th>Processed</th>\n",
       "      <td>160</td>\n",
       "      <td>184</td>\n",
       "      <td>237</td>\n",
       "      <td>148</td>\n",
       "      <td>181</td>\n",
       "      <td>150</td>\n",
       "      <td>123</td>\n",
       "      <td>156</td>\n",
       "      <td>126</td>\n",
       "      <td>104</td>\n",
       "      <td>124</td>\n",
       "      <td>140</td>\n",
       "    </tr>\n",
       "  </tbody>\n",
       "</table>\n",
       "</div>"
      ],
      "text/plain": [
       "           Jan  Feb  Mar  Apr  May  Jun  Jul  Aug  Sep  Oct  Nov  Dec\n",
       "State                                                                \n",
       "Received   160  184  241  149  180  161  132  202  160  139  149  177\n",
       "Processed  160  184  237  148  181  150  123  156  126  104  124  140"
      ]
     },
     "execution_count": 26,
     "metadata": {},
     "output_type": "execute_result"
    }
   ],
   "source": [
    "figura_2.head()"
   ]
  },
  {
   "cell_type": "code",
   "execution_count": 27,
   "metadata": {
    "hidden": true
   },
   "outputs": [],
   "source": [
    "figura_2 = figura_2.rename_axis(None).T"
   ]
  },
  {
   "cell_type": "code",
   "execution_count": 28,
   "metadata": {
    "hidden": true
   },
   "outputs": [
    {
     "data": {
      "text/html": [
       "<div>\n",
       "<style scoped>\n",
       "    .dataframe tbody tr th:only-of-type {\n",
       "        vertical-align: middle;\n",
       "    }\n",
       "\n",
       "    .dataframe tbody tr th {\n",
       "        vertical-align: top;\n",
       "    }\n",
       "\n",
       "    .dataframe thead th {\n",
       "        text-align: right;\n",
       "    }\n",
       "</style>\n",
       "<table border=\"1\" class=\"dataframe\">\n",
       "  <thead>\n",
       "    <tr style=\"text-align: right;\">\n",
       "      <th></th>\n",
       "      <th>Received</th>\n",
       "      <th>Processed</th>\n",
       "    </tr>\n",
       "  </thead>\n",
       "  <tbody>\n",
       "    <tr>\n",
       "      <th>Jan</th>\n",
       "      <td>160</td>\n",
       "      <td>160</td>\n",
       "    </tr>\n",
       "    <tr>\n",
       "      <th>Feb</th>\n",
       "      <td>184</td>\n",
       "      <td>184</td>\n",
       "    </tr>\n",
       "    <tr>\n",
       "      <th>Mar</th>\n",
       "      <td>241</td>\n",
       "      <td>237</td>\n",
       "    </tr>\n",
       "    <tr>\n",
       "      <th>Apr</th>\n",
       "      <td>149</td>\n",
       "      <td>148</td>\n",
       "    </tr>\n",
       "    <tr>\n",
       "      <th>May</th>\n",
       "      <td>180</td>\n",
       "      <td>181</td>\n",
       "    </tr>\n",
       "  </tbody>\n",
       "</table>\n",
       "</div>"
      ],
      "text/plain": [
       "     Received  Processed\n",
       "Jan       160        160\n",
       "Feb       184        184\n",
       "Mar       241        237\n",
       "Apr       149        148\n",
       "May       180        181"
      ]
     },
     "execution_count": 28,
     "metadata": {},
     "output_type": "execute_result"
    }
   ],
   "source": [
    "figura_2.head()"
   ]
  },
  {
   "cell_type": "markdown",
   "metadata": {},
   "source": [
    "#### Plot "
   ]
  },
  {
   "cell_type": "code",
   "execution_count": 15,
   "metadata": {},
   "outputs": [
    {
     "data": {
      "text/html": [
       "\n",
       "\n",
       "\n",
       "\n",
       "\n",
       "\n",
       "  <div class=\"bk-root\" id=\"00b30b09-d414-47fb-9d9a-1fc28d8cd7cf\" data-root-id=\"1280\"></div>\n"
      ]
     },
     "metadata": {},
     "output_type": "display_data"
    },
    {
     "data": {
      "application/javascript": [
       "(function(root) {\n",
       "  function embed_document(root) {\n",
       "    \n",
       "  var docs_json = {\"1e34094b-aac9-4213-8072-53beee8d2dda\":{\"roots\":{\"references\":[{\"attributes\":{\"above\":[{\"id\":\"1321\",\"type\":\"Title\"},{\"id\":\"1322\",\"type\":\"Title\"}],\"below\":[{\"id\":\"1291\",\"type\":\"CategoricalAxis\"},{\"id\":\"1323\",\"type\":\"Title\"}],\"center\":[{\"id\":\"1294\",\"type\":\"Grid\"},{\"id\":\"1299\",\"type\":\"Grid\"},{\"id\":\"1325\",\"type\":\"LabelSet\"},{\"id\":\"1327\",\"type\":\"LabelSet\"}],\"left\":[{\"id\":\"1295\",\"type\":\"LinearAxis\"},{\"id\":\"1324\",\"type\":\"Title\"}],\"plot_height\":450,\"plot_width\":650,\"renderers\":[{\"id\":\"1304\",\"type\":\"GlyphRenderer\"},{\"id\":\"1309\",\"type\":\"GlyphRenderer\"},{\"id\":\"1314\",\"type\":\"GlyphRenderer\"},{\"id\":\"1319\",\"type\":\"GlyphRenderer\"}],\"title\":{\"id\":\"1281\",\"type\":\"Title\"},\"toolbar\":{\"id\":\"1300\",\"type\":\"Toolbar\"},\"toolbar_location\":null,\"x_range\":{\"id\":\"1283\",\"type\":\"FactorRange\"},\"x_scale\":{\"id\":\"1287\",\"type\":\"CategoricalScale\"},\"y_range\":{\"id\":\"1285\",\"type\":\"Range1d\"},\"y_scale\":{\"id\":\"1289\",\"type\":\"LinearScale\"}},\"id\":\"1280\",\"subtype\":\"Figure\",\"type\":\"Plot\"},{\"attributes\":{\"axis_line_color\":{\"value\":\"#9c9c9c\"},\"bounds\":[0,13],\"formatter\":{\"id\":\"1354\",\"type\":\"CategoricalTickFormatter\"},\"major_label_text_color\":{\"value\":\"#9c9c9c\"},\"major_label_text_font_size\":{\"value\":\"11pt\"},\"major_label_text_font_style\":\"bold\",\"major_tick_line_color\":{\"value\":null},\"ticker\":{\"id\":\"1292\",\"type\":\"CategoricalTicker\"}},\"id\":\"1291\",\"type\":\"CategoricalAxis\"},{\"attributes\":{\"active_drag\":\"auto\",\"active_inspect\":\"auto\",\"active_multi\":null,\"active_scroll\":\"auto\",\"active_tap\":\"auto\"},\"id\":\"1300\",\"type\":\"Toolbar\"},{\"attributes\":{\"callback\":null,\"end\":300},\"id\":\"1285\",\"type\":\"Range1d\"},{\"attributes\":{},\"id\":\"1352\",\"type\":\"BasicTickFormatter\"},{\"attributes\":{},\"id\":\"1356\",\"type\":\"UnionRenderers\"},{\"attributes\":{\"source\":{\"id\":\"1279\",\"type\":\"ColumnDataSource\"}},\"id\":\"1305\",\"type\":\"CDSView\"},{\"attributes\":{},\"id\":\"1354\",\"type\":\"CategoricalTickFormatter\"},{\"attributes\":{},\"id\":\"1357\",\"type\":\"Selection\"},{\"attributes\":{\"data_source\":{\"id\":\"1279\",\"type\":\"ColumnDataSource\"},\"glyph\":{\"id\":\"1312\",\"type\":\"Line\"},\"hover_glyph\":null,\"muted_glyph\":null,\"nonselection_glyph\":{\"id\":\"1313\",\"type\":\"Line\"},\"selection_glyph\":null,\"view\":{\"id\":\"1315\",\"type\":\"CDSView\"}},\"id\":\"1314\",\"type\":\"GlyphRenderer\"},{\"attributes\":{},\"id\":\"1287\",\"type\":\"CategoricalScale\"},{\"attributes\":{\"fill_alpha\":{\"value\":0.1},\"fill_color\":{\"value\":\"#1f77b4\"},\"line_alpha\":{\"value\":0.1},\"line_color\":{\"value\":\"#1f77b4\"},\"size\":{\"units\":\"screen\",\"value\":12},\"x\":{\"field\":\"index\"},\"y\":{\"field\":\"Received\"}},\"id\":\"1318\",\"type\":\"Circle\"},{\"attributes\":{},\"id\":\"1292\",\"type\":\"CategoricalTicker\"},{\"attributes\":{\"data_source\":{\"id\":\"1279\",\"type\":\"ColumnDataSource\"},\"glyph\":{\"id\":\"1302\",\"type\":\"Line\"},\"hover_glyph\":null,\"muted_glyph\":null,\"nonselection_glyph\":{\"id\":\"1303\",\"type\":\"Line\"},\"selection_glyph\":null,\"view\":{\"id\":\"1305\",\"type\":\"CDSView\"}},\"id\":\"1304\",\"type\":\"GlyphRenderer\"},{\"attributes\":{\"callback\":null,\"data\":{\"Processed\":[160,184,237,148,181,150,123,156,126,104,124,140],\"Received\":[160,184,241,149,180,161,132,202,160,139,149,177],\"index\":[\"Jan\",\"Feb\",\"Mar\",\"Apr\",\"May\",\"Jun\",\"Jul\",\"Aug\",\"Sep\",\"Oct\",\"Nov\",\"Dec\"]},\"selected\":{\"id\":\"1357\",\"type\":\"Selection\"},\"selection_policy\":{\"id\":\"1356\",\"type\":\"UnionRenderers\"}},\"id\":\"1279\",\"type\":\"ColumnDataSource\"},{\"attributes\":{\"grid_line_color\":null,\"ticker\":{\"id\":\"1292\",\"type\":\"CategoricalTicker\"}},\"id\":\"1294\",\"type\":\"Grid\"},{\"attributes\":{\"line_color\":\"#003366\",\"line_width\":5,\"x\":{\"field\":\"index\"},\"y\":{\"field\":\"Processed\"}},\"id\":\"1302\",\"type\":\"Line\"},{\"attributes\":{\"fill_color\":{\"value\":\"#828282\"},\"line_color\":{\"value\":\"#828282\"},\"size\":{\"units\":\"screen\",\"value\":12},\"x\":{\"field\":\"index\"},\"y\":{\"field\":\"Received\"}},\"id\":\"1317\",\"type\":\"Circle\"},{\"attributes\":{\"source\":{\"id\":\"1279\",\"type\":\"ColumnDataSource\"}},\"id\":\"1320\",\"type\":\"CDSView\"},{\"attributes\":{\"text\":\"Please approve the hire of 2 FTE\",\"text_color\":{\"value\":\"#333333\"},\"text_font_size\":{\"value\":\"18pt\"}},\"id\":\"1281\",\"type\":\"Title\"},{\"attributes\":{},\"id\":\"1296\",\"type\":\"BasicTicker\"},{\"attributes\":{\"callback\":null,\"factors\":[\"Jan\",\"Feb\",\"Mar\",\"Apr\",\"May\",\"Jun\",\"Jul\",\"Aug\",\"Sep\",\"Oct\",\"Nov\",\"Dec\"]},\"id\":\"1283\",\"type\":\"FactorRange\"},{\"attributes\":{\"dimension\":1,\"grid_line_color\":null,\"ticker\":{\"id\":\"1296\",\"type\":\"BasicTicker\"}},\"id\":\"1299\",\"type\":\"Grid\"},{\"attributes\":{},\"id\":\"1289\",\"type\":\"LinearScale\"},{\"attributes\":{\"fill_color\":{\"value\":\"#003366\"},\"line_color\":{\"value\":\"#003366\"},\"size\":{\"units\":\"screen\",\"value\":12},\"x\":{\"field\":\"index\"},\"y\":{\"field\":\"Processed\"}},\"id\":\"1307\",\"type\":\"Circle\"},{\"attributes\":{\"axis_line_color\":{\"value\":\"#9c9c9c\"},\"axis_line_width\":{\"value\":2},\"formatter\":{\"id\":\"1352\",\"type\":\"BasicTickFormatter\"},\"major_label_text_color\":{\"value\":\"#9c9c9c\"},\"major_label_text_font_size\":{\"value\":\"13pt\"},\"major_label_text_font_style\":\"bold\",\"major_tick_in\":0,\"major_tick_line_color\":{\"value\":\"#9c9c9c\"},\"major_tick_line_width\":{\"value\":2},\"minor_tick_line_color\":{\"value\":null},\"ticker\":{\"id\":\"1296\",\"type\":\"BasicTicker\"}},\"id\":\"1295\",\"type\":\"LinearAxis\"},{\"attributes\":{\"text\":\"Ticket Volumen over time\",\"text_font_size\":{\"value\":\"13pt\"},\"text_font_style\":\"normal\"},\"id\":\"1321\",\"type\":\"Title\"},{\"attributes\":{\"line_alpha\":0.1,\"line_color\":\"#1f77b4\",\"line_width\":5,\"x\":{\"field\":\"index\"},\"y\":{\"field\":\"Received\"}},\"id\":\"1313\",\"type\":\"Line\"},{\"attributes\":{\"data_source\":{\"id\":\"1279\",\"type\":\"ColumnDataSource\"},\"glyph\":{\"id\":\"1307\",\"type\":\"Circle\"},\"hover_glyph\":null,\"muted_glyph\":null,\"nonselection_glyph\":{\"id\":\"1308\",\"type\":\"Circle\"},\"selection_glyph\":null,\"view\":{\"id\":\"1310\",\"type\":\"CDSView\"}},\"id\":\"1309\",\"type\":\"GlyphRenderer\"},{\"attributes\":{\"source\":{\"id\":\"1279\",\"type\":\"ColumnDataSource\"},\"text\":{\"field\":\"Received\"},\"text_align\":\"center\",\"text_baseline\":\"alphabetic\",\"text_color\":{\"value\":\"#828282\"},\"x\":{\"field\":\"index\"},\"y\":{\"field\":\"Received\"},\"y_offset\":{\"value\":15}},\"id\":\"1327\",\"type\":\"LabelSet\"},{\"attributes\":{\"text\":\"the backfill those who quit in the past year\",\"text_color\":{\"value\":\"#9c9c9c\"},\"text_font_size\":{\"value\":\"11pt\"},\"text_font_style\":\"normal\"},\"id\":\"1322\",\"type\":\"Title\"},{\"attributes\":{\"line_color\":\"#828282\",\"line_width\":5,\"x\":{\"field\":\"index\"},\"y\":{\"field\":\"Received\"}},\"id\":\"1312\",\"type\":\"Line\"},{\"attributes\":{\"text\":\"2014\",\"text_color\":{\"value\":\"#9c9c9c\"},\"text_font_size\":{\"value\":\"14pt\"}},\"id\":\"1323\",\"type\":\"Title\"},{\"attributes\":{\"line_alpha\":0.1,\"line_color\":\"#1f77b4\",\"line_width\":5,\"x\":{\"field\":\"index\"},\"y\":{\"field\":\"Processed\"}},\"id\":\"1303\",\"type\":\"Line\"},{\"attributes\":{\"align\":\"right\",\"border_line_join\":\"round\",\"text\":\"Number of tickets\",\"text_color\":{\"value\":\"#9c9c9c\"},\"text_font_size\":{\"value\":\"14pt\"}},\"id\":\"1324\",\"type\":\"Title\"},{\"attributes\":{\"data_source\":{\"id\":\"1279\",\"type\":\"ColumnDataSource\"},\"glyph\":{\"id\":\"1317\",\"type\":\"Circle\"},\"hover_glyph\":null,\"muted_glyph\":null,\"nonselection_glyph\":{\"id\":\"1318\",\"type\":\"Circle\"},\"selection_glyph\":null,\"view\":{\"id\":\"1320\",\"type\":\"CDSView\"}},\"id\":\"1319\",\"type\":\"GlyphRenderer\"},{\"attributes\":{\"source\":{\"id\":\"1279\",\"type\":\"ColumnDataSource\"},\"text\":{\"field\":\"Processed\"},\"text_align\":\"center\",\"text_color\":{\"value\":\"#003366\"},\"x\":{\"field\":\"index\"},\"y\":{\"field\":\"Processed\"},\"y_offset\":{\"value\":-30}},\"id\":\"1325\",\"type\":\"LabelSet\"},{\"attributes\":{\"fill_alpha\":{\"value\":0.1},\"fill_color\":{\"value\":\"#1f77b4\"},\"line_alpha\":{\"value\":0.1},\"line_color\":{\"value\":\"#1f77b4\"},\"size\":{\"units\":\"screen\",\"value\":12},\"x\":{\"field\":\"index\"},\"y\":{\"field\":\"Processed\"}},\"id\":\"1308\",\"type\":\"Circle\"},{\"attributes\":{\"source\":{\"id\":\"1279\",\"type\":\"ColumnDataSource\"}},\"id\":\"1315\",\"type\":\"CDSView\"},{\"attributes\":{\"source\":{\"id\":\"1279\",\"type\":\"ColumnDataSource\"}},\"id\":\"1310\",\"type\":\"CDSView\"}],\"root_ids\":[\"1280\"]},\"title\":\"Bokeh Application\",\"version\":\"1.2.0\"}};\n",
       "  var render_items = [{\"docid\":\"1e34094b-aac9-4213-8072-53beee8d2dda\",\"roots\":{\"1280\":\"00b30b09-d414-47fb-9d9a-1fc28d8cd7cf\"}}];\n",
       "  root.Bokeh.embed.embed_items_notebook(docs_json, render_items);\n",
       "\n",
       "  }\n",
       "  if (root.Bokeh !== undefined) {\n",
       "    embed_document(root);\n",
       "  } else {\n",
       "    var attempts = 0;\n",
       "    var timer = setInterval(function(root) {\n",
       "      if (root.Bokeh !== undefined) {\n",
       "        embed_document(root);\n",
       "        clearInterval(timer);\n",
       "      }\n",
       "      attempts++;\n",
       "      if (attempts > 100) {\n",
       "        console.log(\"Bokeh: ERROR: Unable to run BokehJS code because BokehJS library is missing\");\n",
       "        clearInterval(timer);\n",
       "      }\n",
       "    }, 10, root)\n",
       "  }\n",
       "})(window);"
      ],
      "application/vnd.bokehjs_exec.v0+json": ""
     },
     "metadata": {
      "application/vnd.bokehjs_exec.v0+json": {
       "id": "1280"
      }
     },
     "output_type": "display_data"
    }
   ],
   "source": [
    "# Instanciamos la figura\n",
    "source = ColumnDataSource(figura_2)\n",
    "\n",
    "p = figure(x_range=list(figura_2.index), y_range=(0, 300), plot_height=450, plot_width=650, title='Please approve the hire of 2 FTE',\n",
    "           toolbar_location=None, tools=\"\")\n",
    "\n",
    "\n",
    "# Barras y circulos \n",
    "p.line(x='index', y='Processed', line_color='#003366', line_width=5, source=source)\n",
    "p.circle(x='index', y='Processed', color='#003366', size=12, source=source)\n",
    "\n",
    "\n",
    "p.line(x='index', y='Received', line_color='#828282', line_width=5, source=source)\n",
    "p.circle(x='index', y='Received', color='#828282', size=12, source=source)\n",
    "\n",
    "\n",
    "# Titulos\n",
    "p.add_layout(Title(text=\"Ticket Volumen over time\", align=\"left\", text_font_size='13pt', \n",
    "                   text_color='#444444', text_font_style = 'normal'), \"above\")\n",
    "\n",
    "p.add_layout(Title(text=\"the backfill those who quit in the past year\", align=\"left\", text_font_size='11pt', \n",
    "                   text_color='#9c9c9c', text_font_style = 'normal'), \"above\")\n",
    "\n",
    "\n",
    "\n",
    "p.add_layout(Title(text=\"2014\", align=\"left\", text_font_size='14pt', text_color='#9c9c9c'), \"below\")\n",
    "\n",
    "\n",
    "p.add_layout(Title(text=\"Number of tickets\", align=\"right\", text_font_size='14pt', \n",
    "                   border_line_join='round',text_color='#9c9c9c'), \"left\")\n",
    "\n",
    "\n",
    "# Label en las barras\n",
    "p.add_layout(LabelSet(x='index', y='Processed', text=str('Processed'), text_align='center', y_offset=-30,\n",
    "                      background_fill_alpha=1, text_color='#003366', text_baseline='bottom', source=source,\n",
    "                      render_mode='canvas'))\n",
    "p.add_layout(LabelSet(x='index', y='Received', y_offset=15, text=str('Received'), text_align='center', \n",
    "                      background_fill_alpha=1, text_color='#828282',text_baseline='alphabetic', source=source, \n",
    "                      render_mode='canvas'))\n",
    "\n",
    "# Atributos del titulo\n",
    "p.title.text_color = '#333333'\n",
    "p.title.text_font_size = '18pt'\n",
    "\n",
    "\n",
    "# Eje X\n",
    "p.xaxis.axis_line_color = '#9c9c9c'\n",
    "p.xgrid.grid_line_color = None\n",
    "p.xaxis.major_tick_line_color = None\n",
    "p.xaxis.major_label_text_color = '#9c9c9c'\n",
    "p.xaxis.major_label_text_font_size = '11pt'\n",
    "p.xaxis.major_label_text_font_style = 'bold'\n",
    "p.xaxis.bounds = (0, 13)\n",
    "\n",
    "\n",
    "# Eje Y\n",
    "p.yaxis.axis_line_color = '#9c9c9c'\n",
    "p.yaxis.axis_line_width = 2\n",
    "p.ygrid.grid_line_color=None\n",
    "p.yaxis.major_tick_line_color = '#9c9c9c'\n",
    "p.yaxis.major_label_text_color = '#9c9c9c'\n",
    "p.yaxis.major_label_text_font_size = '13pt'\n",
    "p.yaxis.major_label_text_font_style = 'bold'\n",
    "p.yaxis.major_tick_line_width = 2\n",
    "p.yaxis.major_tick_in = 0\n",
    "p.yaxis.minor_tick_line_color = None\n",
    "\n",
    "\n",
    "show(p)"
   ]
  },
  {
   "cell_type": "markdown",
   "metadata": {
    "heading_collapsed": true
   },
   "source": [
    "### Figura 3 "
   ]
  },
  {
   "cell_type": "markdown",
   "metadata": {
    "hidden": true
   },
   "source": [
    "<img src=\"../images/figura_3.png\">"
   ]
  },
  {
   "cell_type": "markdown",
   "metadata": {
    "heading_collapsed": true,
    "hidden": true
   },
   "source": [
    "#### Reshape "
   ]
  },
  {
   "cell_type": "code",
   "execution_count": 22,
   "metadata": {
    "hidden": true
   },
   "outputs": [
    {
     "data": {
      "text/plain": [
       "(5, 5)"
      ]
     },
     "execution_count": 22,
     "metadata": {},
     "output_type": "execute_result"
    }
   ],
   "source": [
    "figura_3 = pd.read_csv('../data/data_figura_3.csv')\n",
    "figura_3.shape"
   ]
  },
  {
   "cell_type": "code",
   "execution_count": 24,
   "metadata": {
    "hidden": true
   },
   "outputs": [
    {
     "data": {
      "text/html": [
       "<div>\n",
       "<style scoped>\n",
       "    .dataframe tbody tr th:only-of-type {\n",
       "        vertical-align: middle;\n",
       "    }\n",
       "\n",
       "    .dataframe tbody tr th {\n",
       "        vertical-align: top;\n",
       "    }\n",
       "\n",
       "    .dataframe thead th {\n",
       "        text-align: right;\n",
       "    }\n",
       "</style>\n",
       "<table border=\"1\" class=\"dataframe\">\n",
       "  <thead>\n",
       "    <tr style=\"text-align: right;\">\n",
       "      <th></th>\n",
       "      <th>interest</th>\n",
       "      <th>before</th>\n",
       "      <th>after</th>\n",
       "      <th>formatted_before</th>\n",
       "      <th>formatted_after</th>\n",
       "    </tr>\n",
       "  </thead>\n",
       "  <tbody>\n",
       "    <tr>\n",
       "      <th>0</th>\n",
       "      <td>Bored</td>\n",
       "      <td>11</td>\n",
       "      <td>12</td>\n",
       "      <td>11%</td>\n",
       "      <td>12%</td>\n",
       "    </tr>\n",
       "    <tr>\n",
       "      <th>1</th>\n",
       "      <td>Not great</td>\n",
       "      <td>5</td>\n",
       "      <td>6</td>\n",
       "      <td>5%</td>\n",
       "      <td>6%</td>\n",
       "    </tr>\n",
       "    <tr>\n",
       "      <th>2</th>\n",
       "      <td>OK</td>\n",
       "      <td>40</td>\n",
       "      <td>14</td>\n",
       "      <td>40%</td>\n",
       "      <td>14%</td>\n",
       "    </tr>\n",
       "    <tr>\n",
       "      <th>3</th>\n",
       "      <td>Kind of interested</td>\n",
       "      <td>25</td>\n",
       "      <td>30</td>\n",
       "      <td>25%</td>\n",
       "      <td>30%</td>\n",
       "    </tr>\n",
       "    <tr>\n",
       "      <th>4</th>\n",
       "      <td>Excited</td>\n",
       "      <td>19</td>\n",
       "      <td>38</td>\n",
       "      <td>19%</td>\n",
       "      <td>38%</td>\n",
       "    </tr>\n",
       "  </tbody>\n",
       "</table>\n",
       "</div>"
      ],
      "text/plain": [
       "             interest  before  after formatted_before formatted_after\n",
       "0               Bored      11     12              11%             12%\n",
       "1           Not great       5      6               5%              6%\n",
       "2                  OK      40     14              40%             14%\n",
       "3  Kind of interested      25     30              25%             30%\n",
       "4             Excited      19     38              19%             38%"
      ]
     },
     "execution_count": 24,
     "metadata": {},
     "output_type": "execute_result"
    }
   ],
   "source": [
    "figura_3"
   ]
  },
  {
   "cell_type": "code",
   "execution_count": 29,
   "metadata": {
    "hidden": true
   },
   "outputs": [],
   "source": [
    "figura_3_hbar = figura_3[['interest', 'before', 'after']].set_index('interest').T.rename_axis('when').sort_values('when', ascending=True).reset_index()"
   ]
  },
  {
   "cell_type": "code",
   "execution_count": 30,
   "metadata": {
    "hidden": true
   },
   "outputs": [
    {
     "data": {
      "text/html": [
       "<div>\n",
       "<style scoped>\n",
       "    .dataframe tbody tr th:only-of-type {\n",
       "        vertical-align: middle;\n",
       "    }\n",
       "\n",
       "    .dataframe tbody tr th {\n",
       "        vertical-align: top;\n",
       "    }\n",
       "\n",
       "    .dataframe thead th {\n",
       "        text-align: right;\n",
       "    }\n",
       "</style>\n",
       "<table border=\"1\" class=\"dataframe\">\n",
       "  <thead>\n",
       "    <tr style=\"text-align: right;\">\n",
       "      <th>interest</th>\n",
       "      <th>when</th>\n",
       "      <th>Bored</th>\n",
       "      <th>Not great</th>\n",
       "      <th>OK</th>\n",
       "      <th>Kind of interested</th>\n",
       "      <th>Excited</th>\n",
       "    </tr>\n",
       "  </thead>\n",
       "  <tbody>\n",
       "    <tr>\n",
       "      <th>0</th>\n",
       "      <td>after</td>\n",
       "      <td>12</td>\n",
       "      <td>6</td>\n",
       "      <td>14</td>\n",
       "      <td>30</td>\n",
       "      <td>38</td>\n",
       "    </tr>\n",
       "    <tr>\n",
       "      <th>1</th>\n",
       "      <td>before</td>\n",
       "      <td>11</td>\n",
       "      <td>5</td>\n",
       "      <td>40</td>\n",
       "      <td>25</td>\n",
       "      <td>19</td>\n",
       "    </tr>\n",
       "  </tbody>\n",
       "</table>\n",
       "</div>"
      ],
      "text/plain": [
       "interest    when  Bored  Not great  OK  Kind of interested  Excited\n",
       "0          after     12          6  14                  30       38\n",
       "1         before     11          5  40                  25       19"
      ]
     },
     "execution_count": 30,
     "metadata": {},
     "output_type": "execute_result"
    }
   ],
   "source": [
    "figura_3_hbar.head()"
   ]
  },
  {
   "cell_type": "code",
   "execution_count": 31,
   "metadata": {
    "hidden": true
   },
   "outputs": [],
   "source": [
    "figura_3_hbar.columns.name = None\n",
    "figura_3_hbar['when'] = figura_3_hbar['when'].apply(lambda x: x.upper())"
   ]
  },
  {
   "cell_type": "code",
   "execution_count": 32,
   "metadata": {
    "hidden": true
   },
   "outputs": [
    {
     "data": {
      "text/html": [
       "<div>\n",
       "<style scoped>\n",
       "    .dataframe tbody tr th:only-of-type {\n",
       "        vertical-align: middle;\n",
       "    }\n",
       "\n",
       "    .dataframe tbody tr th {\n",
       "        vertical-align: top;\n",
       "    }\n",
       "\n",
       "    .dataframe thead th {\n",
       "        text-align: right;\n",
       "    }\n",
       "</style>\n",
       "<table border=\"1\" class=\"dataframe\">\n",
       "  <thead>\n",
       "    <tr style=\"text-align: right;\">\n",
       "      <th></th>\n",
       "      <th>when</th>\n",
       "      <th>Bored</th>\n",
       "      <th>Not great</th>\n",
       "      <th>OK</th>\n",
       "      <th>Kind of interested</th>\n",
       "      <th>Excited</th>\n",
       "    </tr>\n",
       "  </thead>\n",
       "  <tbody>\n",
       "    <tr>\n",
       "      <th>0</th>\n",
       "      <td>AFTER</td>\n",
       "      <td>12</td>\n",
       "      <td>6</td>\n",
       "      <td>14</td>\n",
       "      <td>30</td>\n",
       "      <td>38</td>\n",
       "    </tr>\n",
       "    <tr>\n",
       "      <th>1</th>\n",
       "      <td>BEFORE</td>\n",
       "      <td>11</td>\n",
       "      <td>5</td>\n",
       "      <td>40</td>\n",
       "      <td>25</td>\n",
       "      <td>19</td>\n",
       "    </tr>\n",
       "  </tbody>\n",
       "</table>\n",
       "</div>"
      ],
      "text/plain": [
       "     when  Bored  Not great  OK  Kind of interested  Excited\n",
       "0   AFTER     12          6  14                  30       38\n",
       "1  BEFORE     11          5  40                  25       19"
      ]
     },
     "execution_count": 32,
     "metadata": {},
     "output_type": "execute_result"
    }
   ],
   "source": [
    "figura_3_hbar"
   ]
  },
  {
   "cell_type": "code",
   "execution_count": 34,
   "metadata": {
    "hidden": true
   },
   "outputs": [],
   "source": [
    "intereses = figura_3['interest'].to_list()\n",
    "cuando = figura_3_hbar['when'].to_list()"
   ]
  },
  {
   "cell_type": "markdown",
   "metadata": {
    "heading_collapsed": true,
    "hidden": true
   },
   "source": [
    "#### Plot "
   ]
  },
  {
   "cell_type": "code",
   "execution_count": 35,
   "metadata": {
    "hidden": true
   },
   "outputs": [
    {
     "data": {
      "text/html": [
       "\n",
       "\n",
       "\n",
       "\n",
       "\n",
       "\n",
       "  <div class=\"bk-root\" id=\"b4a23275-e770-4599-a493-f446c44f7d04\" data-root-id=\"1401\"></div>\n"
      ]
     },
     "metadata": {},
     "output_type": "display_data"
    },
    {
     "data": {
      "application/javascript": [
       "(function(root) {\n",
       "  function embed_document(root) {\n",
       "    \n",
       "  var docs_json = {\"7dce10cc-a866-4df2-b34f-78349ea71681\":{\"roots\":{\"references\":[{\"attributes\":{\"above\":[{\"id\":\"1412\",\"type\":\"LinearAxis\"},{\"id\":\"1469\",\"type\":\"Title\"},{\"id\":\"1470\",\"type\":\"Title\"}],\"below\":[{\"id\":\"1471\",\"type\":\"Title\"}],\"center\":[{\"id\":\"1416\",\"type\":\"Grid\"},{\"id\":\"1420\",\"type\":\"Grid\"}],\"left\":[{\"id\":\"1417\",\"type\":\"CategoricalAxis\"}],\"plot_height\":250,\"renderers\":[{\"id\":\"1447\",\"type\":\"GlyphRenderer\"},{\"id\":\"1452\",\"type\":\"GlyphRenderer\"},{\"id\":\"1457\",\"type\":\"GlyphRenderer\"},{\"id\":\"1462\",\"type\":\"GlyphRenderer\"},{\"id\":\"1467\",\"type\":\"GlyphRenderer\"}],\"title\":{\"id\":\"1402\",\"type\":\"Title\"},\"toolbar\":{\"id\":\"1427\",\"type\":\"Toolbar\"},\"toolbar_location\":null,\"x_range\":{\"id\":\"1404\",\"type\":\"Range1d\"},\"x_scale\":{\"id\":\"1408\",\"type\":\"LinearScale\"},\"y_range\":{\"id\":\"1406\",\"type\":\"FactorRange\"},\"y_scale\":{\"id\":\"1410\",\"type\":\"CategoricalScale\"}},\"id\":\"1401\",\"subtype\":\"Figure\",\"type\":\"Plot\"},{\"attributes\":{\"fields\":[\"Bored\",\"Not great\",\"OK\",\"Kind of interested\",\"Excited\"]},\"id\":\"1443\",\"type\":\"Stack\"},{\"attributes\":{\"data_source\":{\"id\":\"1400\",\"type\":\"ColumnDataSource\"},\"glyph\":{\"id\":\"1460\",\"type\":\"HBar\"},\"hover_glyph\":null,\"muted_glyph\":null,\"name\":\"Kind of interested\",\"nonselection_glyph\":{\"id\":\"1461\",\"type\":\"HBar\"},\"selection_glyph\":null,\"view\":{\"id\":\"1463\",\"type\":\"CDSView\"}},\"id\":\"1462\",\"type\":\"GlyphRenderer\"},{\"attributes\":{\"dimension\":1,\"ticker\":{\"id\":\"1418\",\"type\":\"CategoricalTicker\"}},\"id\":\"1420\",\"type\":\"Grid\"},{\"attributes\":{\"fill_color\":{\"value\":\"#828282\"},\"height\":{\"value\":0.9},\"left\":{\"expr\":{\"id\":\"1434\",\"type\":\"Stack\"}},\"line_color\":{\"value\":\"white\"},\"line_width\":{\"value\":1.2},\"right\":{\"expr\":{\"id\":\"1435\",\"type\":\"Stack\"}},\"y\":{\"field\":\"when\"}},\"id\":\"1445\",\"type\":\"HBar\"},{\"attributes\":{\"source\":{\"id\":\"1400\",\"type\":\"ColumnDataSource\"}},\"id\":\"1463\",\"type\":\"CDSView\"},{\"attributes\":{\"fields\":[\"Bored\"]},\"id\":\"1435\",\"type\":\"Stack\"},{\"attributes\":{\"fill_alpha\":{\"value\":0.1},\"fill_color\":{\"value\":\"#1f77b4\"},\"height\":{\"value\":0.9},\"left\":{\"expr\":{\"id\":\"1434\",\"type\":\"Stack\"}},\"line_alpha\":{\"value\":0.1},\"line_color\":{\"value\":\"#1f77b4\"},\"line_width\":{\"value\":1.2},\"right\":{\"expr\":{\"id\":\"1435\",\"type\":\"Stack\"}},\"y\":{\"field\":\"when\"}},\"id\":\"1446\",\"type\":\"HBar\"},{\"attributes\":{\"fields\":[]},\"id\":\"1434\",\"type\":\"Stack\"},{\"attributes\":{\"data_source\":{\"id\":\"1400\",\"type\":\"ColumnDataSource\"},\"glyph\":{\"id\":\"1445\",\"type\":\"HBar\"},\"hover_glyph\":null,\"muted_glyph\":null,\"name\":\"Bored\",\"nonselection_glyph\":{\"id\":\"1446\",\"type\":\"HBar\"},\"selection_glyph\":null,\"view\":{\"id\":\"1448\",\"type\":\"CDSView\"}},\"id\":\"1447\",\"type\":\"GlyphRenderer\"},{\"attributes\":{\"active_drag\":\"auto\",\"active_inspect\":\"auto\",\"active_multi\":null,\"active_scroll\":\"auto\",\"active_tap\":\"auto\",\"tools\":[{\"id\":\"1421\",\"type\":\"PanTool\"},{\"id\":\"1422\",\"type\":\"WheelZoomTool\"},{\"id\":\"1423\",\"type\":\"BoxZoomTool\"},{\"id\":\"1424\",\"type\":\"SaveTool\"},{\"id\":\"1425\",\"type\":\"ResetTool\"},{\"id\":\"1426\",\"type\":\"HelpTool\"}]},\"id\":\"1427\",\"type\":\"Toolbar\"},{\"attributes\":{\"fill_color\":{\"value\":\"#0060c0\"},\"height\":{\"value\":0.9},\"left\":{\"expr\":{\"id\":\"1442\",\"type\":\"Stack\"}},\"line_color\":{\"value\":\"white\"},\"line_width\":{\"value\":1.2},\"right\":{\"expr\":{\"id\":\"1443\",\"type\":\"Stack\"}},\"y\":{\"field\":\"when\"}},\"id\":\"1465\",\"type\":\"HBar\"},{\"attributes\":{},\"id\":\"1421\",\"type\":\"PanTool\"},{\"attributes\":{},\"id\":\"1418\",\"type\":\"CategoricalTicker\"},{\"attributes\":{\"source\":{\"id\":\"1400\",\"type\":\"ColumnDataSource\"}},\"id\":\"1448\",\"type\":\"CDSView\"},{\"attributes\":{\"fill_alpha\":{\"value\":0.1},\"fill_color\":{\"value\":\"#1f77b4\"},\"height\":{\"value\":0.9},\"left\":{\"expr\":{\"id\":\"1442\",\"type\":\"Stack\"}},\"line_alpha\":{\"value\":0.1},\"line_color\":{\"value\":\"#1f77b4\"},\"line_width\":{\"value\":1.2},\"right\":{\"expr\":{\"id\":\"1443\",\"type\":\"Stack\"}},\"y\":{\"field\":\"when\"}},\"id\":\"1466\",\"type\":\"HBar\"},{\"attributes\":{},\"id\":\"1422\",\"type\":\"WheelZoomTool\"},{\"attributes\":{\"data_source\":{\"id\":\"1400\",\"type\":\"ColumnDataSource\"},\"glyph\":{\"id\":\"1465\",\"type\":\"HBar\"},\"hover_glyph\":null,\"muted_glyph\":null,\"name\":\"Excited\",\"nonselection_glyph\":{\"id\":\"1466\",\"type\":\"HBar\"},\"selection_glyph\":null,\"view\":{\"id\":\"1468\",\"type\":\"CDSView\"}},\"id\":\"1467\",\"type\":\"GlyphRenderer\"},{\"attributes\":{},\"id\":\"1408\",\"type\":\"LinearScale\"},{\"attributes\":{\"callback\":null,\"factors\":[\"AFTER\",\"BEFORE\"]},\"id\":\"1406\",\"type\":\"FactorRange\"},{\"attributes\":{\"overlay\":{\"id\":\"1507\",\"type\":\"BoxAnnotation\"}},\"id\":\"1423\",\"type\":\"BoxZoomTool\"},{\"attributes\":{\"fill_color\":{\"value\":\"#828282\"},\"height\":{\"value\":0.9},\"left\":{\"expr\":{\"id\":\"1436\",\"type\":\"Stack\"}},\"line_color\":{\"value\":\"white\"},\"line_width\":{\"value\":1.2},\"right\":{\"expr\":{\"id\":\"1437\",\"type\":\"Stack\"}},\"y\":{\"field\":\"when\"}},\"id\":\"1450\",\"type\":\"HBar\"},{\"attributes\":{\"source\":{\"id\":\"1400\",\"type\":\"ColumnDataSource\"}},\"id\":\"1468\",\"type\":\"CDSView\"},{\"attributes\":{},\"id\":\"1410\",\"type\":\"CategoricalScale\"},{\"attributes\":{},\"id\":\"1424\",\"type\":\"SaveTool\"},{\"attributes\":{\"fill_alpha\":{\"value\":0.1},\"fill_color\":{\"value\":\"#1f77b4\"},\"height\":{\"value\":0.9},\"left\":{\"expr\":{\"id\":\"1436\",\"type\":\"Stack\"}},\"line_alpha\":{\"value\":0.1},\"line_color\":{\"value\":\"#1f77b4\"},\"line_width\":{\"value\":1.2},\"right\":{\"expr\":{\"id\":\"1437\",\"type\":\"Stack\"}},\"y\":{\"field\":\"when\"}},\"id\":\"1451\",\"type\":\"HBar\"},{\"attributes\":{\"text\":\"Based on survey of 100 students conducted before and after pilot program (100% response rate on both surveys).\",\"text_color\":{\"value\":\"#9c9c9c\"},\"text_font_size\":{\"value\":\"9pt\"}},\"id\":\"1471\",\"type\":\"Title\"},{\"attributes\":{},\"id\":\"1425\",\"type\":\"ResetTool\"},{\"attributes\":{\"data_source\":{\"id\":\"1400\",\"type\":\"ColumnDataSource\"},\"glyph\":{\"id\":\"1450\",\"type\":\"HBar\"},\"hover_glyph\":null,\"muted_glyph\":null,\"name\":\"Not great\",\"nonselection_glyph\":{\"id\":\"1451\",\"type\":\"HBar\"},\"selection_glyph\":null,\"view\":{\"id\":\"1453\",\"type\":\"CDSView\"}},\"id\":\"1452\",\"type\":\"GlyphRenderer\"},{\"attributes\":{\"text\":\"How do you feel about science?\",\"text_color\":{\"value\":\"black\"},\"text_font_size\":{\"value\":\"11pt\"},\"text_font_style\":\"normal\"},\"id\":\"1470\",\"type\":\"Title\"},{\"attributes\":{\"callback\":null,\"data\":{\"Bored\":[12,11],\"Excited\":[38,19],\"Kind of interested\":[30,25],\"Not great\":[6,5],\"OK\":[14,40],\"index\":[0,1],\"when\":[\"AFTER\",\"BEFORE\"]},\"selected\":{\"id\":\"1509\",\"type\":\"Selection\"},\"selection_policy\":{\"id\":\"1508\",\"type\":\"UnionRenderers\"}},\"id\":\"1400\",\"type\":\"ColumnDataSource\"},{\"attributes\":{},\"id\":\"1426\",\"type\":\"HelpTool\"},{\"attributes\":{\"source\":{\"id\":\"1400\",\"type\":\"ColumnDataSource\"}},\"id\":\"1453\",\"type\":\"CDSView\"},{\"attributes\":{\"format\":\"%0.0f %%\"},\"id\":\"1472\",\"type\":\"PrintfTickFormatter\"},{\"attributes\":{},\"id\":\"1509\",\"type\":\"Selection\"},{\"attributes\":{\"fields\":[\"Bored\"]},\"id\":\"1436\",\"type\":\"Stack\"},{\"attributes\":{\"fields\":[\"Bored\",\"Not great\"]},\"id\":\"1437\",\"type\":\"Stack\"},{\"attributes\":{\"grid_line_color\":null,\"ticker\":{\"id\":\"1413\",\"type\":\"BasicTicker\"}},\"id\":\"1416\",\"type\":\"Grid\"},{\"attributes\":{\"fill_color\":{\"value\":\"#FF6600\"},\"height\":{\"value\":0.9},\"left\":{\"expr\":{\"id\":\"1438\",\"type\":\"Stack\"}},\"line_color\":{\"value\":\"white\"},\"line_width\":{\"value\":1.2},\"right\":{\"expr\":{\"id\":\"1439\",\"type\":\"Stack\"}},\"y\":{\"field\":\"when\"}},\"id\":\"1455\",\"type\":\"HBar\"},{\"attributes\":{\"axis_line_color\":{\"value\":\"#9c9c9c\"},\"formatter\":{\"id\":\"1472\",\"type\":\"PrintfTickFormatter\"},\"major_label_text_color\":{\"value\":\"#9c9c9c\"},\"major_label_text_font_size\":{\"value\":\"11pt\"},\"major_label_text_font_style\":\"bold\",\"major_tick_line_color\":{\"value\":\"#9c9c9c\"},\"minor_tick_line_color\":{\"value\":null},\"ticker\":{\"id\":\"1413\",\"type\":\"BasicTicker\"}},\"id\":\"1412\",\"type\":\"LinearAxis\"},{\"attributes\":{\"fill_alpha\":{\"value\":0.1},\"fill_color\":{\"value\":\"#1f77b4\"},\"height\":{\"value\":0.9},\"left\":{\"expr\":{\"id\":\"1438\",\"type\":\"Stack\"}},\"line_alpha\":{\"value\":0.1},\"line_color\":{\"value\":\"#1f77b4\"},\"line_width\":{\"value\":1.2},\"right\":{\"expr\":{\"id\":\"1439\",\"type\":\"Stack\"}},\"y\":{\"field\":\"when\"}},\"id\":\"1456\",\"type\":\"HBar\"},{\"attributes\":{\"fields\":[\"Bored\",\"Not great\"]},\"id\":\"1438\",\"type\":\"Stack\"},{\"attributes\":{},\"id\":\"1413\",\"type\":\"BasicTicker\"},{\"attributes\":{},\"id\":\"1505\",\"type\":\"CategoricalTickFormatter\"},{\"attributes\":{\"data_source\":{\"id\":\"1400\",\"type\":\"ColumnDataSource\"},\"glyph\":{\"id\":\"1455\",\"type\":\"HBar\"},\"hover_glyph\":null,\"muted_glyph\":null,\"name\":\"OK\",\"nonselection_glyph\":{\"id\":\"1456\",\"type\":\"HBar\"},\"selection_glyph\":null,\"view\":{\"id\":\"1458\",\"type\":\"CDSView\"}},\"id\":\"1457\",\"type\":\"GlyphRenderer\"},{\"attributes\":{\"fields\":[\"Bored\",\"Not great\",\"OK\"]},\"id\":\"1439\",\"type\":\"Stack\"},{\"attributes\":{\"callback\":null,\"end\":100},\"id\":\"1404\",\"type\":\"Range1d\"},{\"attributes\":{\"bottom_units\":\"screen\",\"fill_alpha\":{\"value\":0.5},\"fill_color\":{\"value\":\"lightgrey\"},\"left_units\":\"screen\",\"level\":\"overlay\",\"line_alpha\":{\"value\":1.0},\"line_color\":{\"value\":\"black\"},\"line_dash\":[4,4],\"line_width\":{\"value\":2},\"render_mode\":\"css\",\"right_units\":\"screen\",\"top_units\":\"screen\"},\"id\":\"1507\",\"type\":\"BoxAnnotation\"},{\"attributes\":{\"source\":{\"id\":\"1400\",\"type\":\"ColumnDataSource\"}},\"id\":\"1458\",\"type\":\"CDSView\"},{\"attributes\":{\"fields\":[\"Bored\",\"Not great\",\"OK\"]},\"id\":\"1440\",\"type\":\"Stack\"},{\"attributes\":{\"background_fill_color\":{\"value\":\"#828282\"},\"text\":\"Pilot program was a success\",\"text_color\":{\"value\":\"white\"},\"text_font_size\":{\"value\":\"15pt\"},\"text_font_style\":\"normal\"},\"id\":\"1402\",\"type\":\"Title\"},{\"attributes\":{\"text\":\"Bored    |    No great    |    OK    |    Kind of interested    |    Excited\",\"text_font_size\":{\"value\":\"13pt\"},\"text_font_style\":\"normal\"},\"id\":\"1469\",\"type\":\"Title\"},{\"attributes\":{},\"id\":\"1508\",\"type\":\"UnionRenderers\"},{\"attributes\":{\"fields\":[\"Bored\",\"Not great\",\"OK\",\"Kind of interested\"]},\"id\":\"1441\",\"type\":\"Stack\"},{\"attributes\":{\"axis_line_color\":{\"value\":null},\"formatter\":{\"id\":\"1505\",\"type\":\"CategoricalTickFormatter\"},\"major_label_text_color\":{\"value\":\"#9c9c9c\"},\"major_label_text_font_size\":{\"value\":\"14pt\"},\"major_tick_line_color\":{\"value\":null},\"ticker\":{\"id\":\"1418\",\"type\":\"CategoricalTicker\"}},\"id\":\"1417\",\"type\":\"CategoricalAxis\"},{\"attributes\":{\"fill_color\":{\"value\":\"#0060c0\"},\"height\":{\"value\":0.9},\"left\":{\"expr\":{\"id\":\"1440\",\"type\":\"Stack\"}},\"line_color\":{\"value\":\"white\"},\"line_width\":{\"value\":1.2},\"right\":{\"expr\":{\"id\":\"1441\",\"type\":\"Stack\"}},\"y\":{\"field\":\"when\"}},\"id\":\"1460\",\"type\":\"HBar\"},{\"attributes\":{\"fields\":[\"Bored\",\"Not great\",\"OK\",\"Kind of interested\"]},\"id\":\"1442\",\"type\":\"Stack\"},{\"attributes\":{\"fill_alpha\":{\"value\":0.1},\"fill_color\":{\"value\":\"#1f77b4\"},\"height\":{\"value\":0.9},\"left\":{\"expr\":{\"id\":\"1440\",\"type\":\"Stack\"}},\"line_alpha\":{\"value\":0.1},\"line_color\":{\"value\":\"#1f77b4\"},\"line_width\":{\"value\":1.2},\"right\":{\"expr\":{\"id\":\"1441\",\"type\":\"Stack\"}},\"y\":{\"field\":\"when\"}},\"id\":\"1461\",\"type\":\"HBar\"}],\"root_ids\":[\"1401\"]},\"title\":\"Bokeh Application\",\"version\":\"1.2.0\"}};\n",
       "  var render_items = [{\"docid\":\"7dce10cc-a866-4df2-b34f-78349ea71681\",\"roots\":{\"1401\":\"b4a23275-e770-4599-a493-f446c44f7d04\"}}];\n",
       "  root.Bokeh.embed.embed_items_notebook(docs_json, render_items);\n",
       "\n",
       "  }\n",
       "  if (root.Bokeh !== undefined) {\n",
       "    embed_document(root);\n",
       "  } else {\n",
       "    var attempts = 0;\n",
       "    var timer = setInterval(function(root) {\n",
       "      if (root.Bokeh !== undefined) {\n",
       "        embed_document(root);\n",
       "        clearInterval(timer);\n",
       "      }\n",
       "      attempts++;\n",
       "      if (attempts > 100) {\n",
       "        console.log(\"Bokeh: ERROR: Unable to run BokehJS code because BokehJS library is missing\");\n",
       "        clearInterval(timer);\n",
       "      }\n",
       "    }, 10, root)\n",
       "  }\n",
       "})(window);"
      ],
      "application/vnd.bokehjs_exec.v0+json": ""
     },
     "metadata": {
      "application/vnd.bokehjs_exec.v0+json": {
       "id": "1401"
      }
     },
     "output_type": "display_data"
    }
   ],
   "source": [
    "source = ColumnDataSource(figura_3_hbar)\n",
    "\n",
    "# Definimos la paleta de colores\n",
    "color = ['#828282', '#828282', '#FF6600', '#0060c0', '#0060c0']\n",
    "\n",
    "# Instanciamos la figura\n",
    "p = figure(y_range=cuando, plot_height=250, x_range=(0, 100), title='Pilot program was a success',\n",
    "           x_axis_location='above', toolbar_location=None)\n",
    "\n",
    "p.hbar_stack(intereses, y='when', height=0.9, color=color, line_width=1.2, line_color='white', source=source)\n",
    "\n",
    "# Titulos\n",
    "p.add_layout(Title(text=\"Bored    |    No great    |    OK    |    Kind of interested    |    Excited\", align=\"left\", text_font_size='13pt', \n",
    "                   text_color='#444444', text_font_style = 'normal'), \"above\")\n",
    "\n",
    "\n",
    "p.add_layout(Title(text=\"How do you feel about science?\", align=\"left\", text_font_size='11pt', \n",
    "                   text_color='black', text_font_style = 'normal'), \"above\")\n",
    "\n",
    "p.add_layout(Title(text=\"Based on survey of 100 students conducted before and after pilot program (100% response rate on both surveys).\", \n",
    "                   align=\"left\", text_font_size='9pt', text_color='#9c9c9c'), \"below\")\n",
    "\n",
    "\n",
    "\n",
    "# Atributos del titulo\n",
    "p.title.text_color = 'white'\n",
    "p.title.background_fill_color = '#828282'\n",
    "p.title.text_font_size = '15pt'\n",
    "p.title.text_font_style = 'normal'\n",
    "\n",
    "p.xaxis.axis_line_color = '#9c9c9c'\n",
    "p.xgrid.grid_line_color = None\n",
    "p.xaxis.major_tick_line_color = '#9c9c9c'\n",
    "p.xaxis.major_label_text_color = '#9c9c9c'\n",
    "p.xaxis.major_label_text_font_size = '11pt'\n",
    "p.xaxis.major_label_text_font_style = 'bold'\n",
    "p.xaxis.minor_tick_line_color = None\n",
    "p.xaxis.formatter = PrintfTickFormatter(format='%0.0f %%')\n",
    "\n",
    "p.yaxis.axis_line_color = None\n",
    "\n",
    "p.yaxis.major_tick_line_color = None\n",
    "p.yaxis.major_label_text_color = '#9c9c9c'\n",
    "p.yaxis.major_label_text_font_size = '14pt'\n",
    "\n",
    "\n",
    "\n",
    "show(p)"
   ]
  },
  {
   "cell_type": "code",
   "execution_count": null,
   "metadata": {
    "hidden": true
   },
   "outputs": [],
   "source": []
  },
  {
   "cell_type": "code",
   "execution_count": null,
   "metadata": {
    "hidden": true
   },
   "outputs": [],
   "source": []
  }
 ],
 "metadata": {
  "kernelspec": {
   "display_name": "Python 3",
   "language": "python",
   "name": "python3"
  },
  "language_info": {
   "codemirror_mode": {
    "name": "ipython",
    "version": 3
   },
   "file_extension": ".py",
   "mimetype": "text/x-python",
   "name": "python",
   "nbconvert_exporter": "python",
   "pygments_lexer": "ipython3",
   "version": "3.6.7"
  },
  "toc": {
   "base_numbering": 1,
   "nav_menu": {},
   "number_sections": true,
   "sideBar": true,
   "skip_h1_title": false,
   "title_cell": "Table of Contents",
   "title_sidebar": "Contents",
   "toc_cell": false,
   "toc_position": {},
   "toc_section_display": true,
   "toc_window_display": false
  }
 },
 "nbformat": 4,
 "nbformat_minor": 2
}
