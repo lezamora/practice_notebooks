{
 "cells": [
  {
   "cell_type": "markdown",
   "metadata": {},
   "source": [
    "## Importamos las librerías "
   ]
  },
  {
   "cell_type": "code",
   "execution_count": 5,
   "metadata": {},
   "outputs": [],
   "source": [
    "import numpy as np\n",
    "import pandas as pd\n",
    "\n",
    "import matplotlib as mpl\n",
    "import matplotlib.pyplot as plt\n",
    "from matplotlib.colors import Normalize, ListedColormap"
   ]
  },
  {
   "cell_type": "markdown",
   "metadata": {},
   "source": [
    "## Graficos "
   ]
  },
  {
   "cell_type": "markdown",
   "metadata": {},
   "source": [
    "### Figura 1"
   ]
  },
  {
   "cell_type": "markdown",
   "metadata": {},
   "source": [
    "<img src=\"../images/figura_1.png\">"
   ]
  },
  {
   "cell_type": "markdown",
   "metadata": {},
   "source": [
    "#### Reshape "
   ]
  },
  {
   "cell_type": "code",
   "execution_count": 2,
   "metadata": {},
   "outputs": [
    {
     "data": {
      "text/plain": [
       "(5, 5)"
      ]
     },
     "execution_count": 2,
     "metadata": {},
     "output_type": "execute_result"
    }
   ],
   "source": [
    "figura_1 = pd.read_csv('../data/data_figura_1.csv')\n",
    "figura_1.shape"
   ]
  },
  {
   "cell_type": "code",
   "execution_count": 3,
   "metadata": {},
   "outputs": [
    {
     "data": {
      "text/html": [
       "<div>\n",
       "<style scoped>\n",
       "    .dataframe tbody tr th:only-of-type {\n",
       "        vertical-align: middle;\n",
       "    }\n",
       "\n",
       "    .dataframe tbody tr th {\n",
       "        vertical-align: top;\n",
       "    }\n",
       "\n",
       "    .dataframe thead th {\n",
       "        text-align: right;\n",
       "    }\n",
       "</style>\n",
       "<table border=\"1\" class=\"dataframe\">\n",
       "  <thead>\n",
       "    <tr style=\"text-align: right;\">\n",
       "      <th></th>\n",
       "      <th>interest</th>\n",
       "      <th>before</th>\n",
       "      <th>after</th>\n",
       "      <th>formatted_before</th>\n",
       "      <th>formatted_after</th>\n",
       "    </tr>\n",
       "  </thead>\n",
       "  <tbody>\n",
       "    <tr>\n",
       "      <th>0</th>\n",
       "      <td>Bored</td>\n",
       "      <td>11</td>\n",
       "      <td>12</td>\n",
       "      <td>11%</td>\n",
       "      <td>12%</td>\n",
       "    </tr>\n",
       "    <tr>\n",
       "      <th>1</th>\n",
       "      <td>Not great</td>\n",
       "      <td>5</td>\n",
       "      <td>6</td>\n",
       "      <td>5%</td>\n",
       "      <td>6%</td>\n",
       "    </tr>\n",
       "    <tr>\n",
       "      <th>2</th>\n",
       "      <td>OK</td>\n",
       "      <td>40</td>\n",
       "      <td>14</td>\n",
       "      <td>40%</td>\n",
       "      <td>14%</td>\n",
       "    </tr>\n",
       "    <tr>\n",
       "      <th>3</th>\n",
       "      <td>Kind of interested</td>\n",
       "      <td>25</td>\n",
       "      <td>30</td>\n",
       "      <td>25%</td>\n",
       "      <td>30%</td>\n",
       "    </tr>\n",
       "    <tr>\n",
       "      <th>4</th>\n",
       "      <td>Excited</td>\n",
       "      <td>19</td>\n",
       "      <td>38</td>\n",
       "      <td>19%</td>\n",
       "      <td>38%</td>\n",
       "    </tr>\n",
       "  </tbody>\n",
       "</table>\n",
       "</div>"
      ],
      "text/plain": [
       "             interest  before  after formatted_before formatted_after\n",
       "0               Bored      11     12              11%             12%\n",
       "1           Not great       5      6               5%              6%\n",
       "2                  OK      40     14              40%             14%\n",
       "3  Kind of interested      25     30              25%             30%\n",
       "4             Excited      19     38              19%             38%"
      ]
     },
     "execution_count": 3,
     "metadata": {},
     "output_type": "execute_result"
    }
   ],
   "source": [
    "figura_1.head()"
   ]
  },
  {
   "cell_type": "markdown",
   "metadata": {},
   "source": [
    "#### Plot"
   ]
  },
  {
   "cell_type": "code",
   "execution_count": 6,
   "metadata": {},
   "outputs": [
    {
     "data": {
      "image/png": "[encoded data removed]",
      "text/plain": [
       "<Figure size 576x360 with 1 Axes>"
      ]
     },
     "metadata": {},
     "output_type": "display_data"
    }
   ],
   "source": [
    "# Colores\n",
    "cmap_before = ListedColormap(['#9c9c9c', '#828282']) \n",
    "norm_before = Normalize(vmin=figura_1['before'].min(), vmax=figura_1['before'].max())\n",
    "\n",
    "mapper_before = cmap_before(norm_before(figura_1['before'].to_list()))\n",
    "\n",
    "cmap_after = ListedColormap(['#6699CC', '#0067a5']) \n",
    "norm_after = Normalize(vmin=figura_1['after'].min(), vmax=figura_1['after'].max())\n",
    "\n",
    "mapper_after = cmap_after(norm_after(figura_1['after'].to_list()))\n",
    "\n",
    "\n",
    "# Instanciamos el grafico\n",
    "width = 0.42\n",
    "\n",
    "x = np.arange(figura_1.shape[0])\n",
    "\n",
    "fig, ax = plt.subplots(figsize=(8, 5))\n",
    "\n",
    "before_rect = ax.bar(x - width/2, figura_1['before'], width, color=mapper_before)\n",
    "after_rect = ax.bar(x + width/2, figura_1['after'], width, color=mapper_after)\n",
    "\n",
    "# Funcion para agregar anotaciones en las barras\n",
    "def autolabel(rects):\n",
    "    \"\"\"Attach a text label above each bar in *rects*, displaying its height.\"\"\"\n",
    "    for rect in rects:\n",
    "        height = rect.get_height()\n",
    "        ax.annotate('{}%'.format(height),\n",
    "                    xy=(rect.get_x() + rect.get_width() / 2, height),\n",
    "                    xytext=(0, -18),  # 3 points vertical offset\n",
    "                    textcoords=\"offset points\",\n",
    "                    ha='center', va='bottom',\n",
    "                    size=14, color='white')\n",
    "\n",
    "\n",
    "# Quitamos las lineas del grafico\n",
    "ax.spines['left'].set_visible(False)\n",
    "ax.spines['right'].set_visible(False)\n",
    "ax.spines['top'].set_visible(False)\n",
    "ax.spines['bottom'].set_visible(False)\n",
    "\n",
    "\n",
    "# Eje x\n",
    "ax.set_xticks(x)\n",
    "ax.set_xticklabels(figura_1['interest'], color='#9c9c9c', size=13, weight='bold', family='sans-serif')\n",
    "ax.xaxis.set_ticks_position('none') \n",
    "\n",
    "# Eje y\n",
    "ax.yaxis.set_ticklabels([])\n",
    "ax.yaxis.set_ticks_position('none') \n",
    "\n",
    "# Seteamos el texto dentro de la barra\n",
    "autolabel(before_rect)\n",
    "autolabel(after_rect)\n",
    "\n",
    "fig.tight_layout()\n",
    "\n",
    "# Titulo\n",
    "plt.suptitle('Pilot program was a success',fontsize=15, y=1.10, x=0.07, ha='left', \n",
    "             color='white', backgroundcolor='#828282')\n",
    "\n",
    "\n",
    "plt.title('How do you feel about science?', fontsize=14, loc='left', x=0.04)\n",
    "\n",
    "plt.show()"
   ]
  }
 ],
 "metadata": {
  "kernelspec": {
   "display_name": "Python 3",
   "language": "python",
   "name": "python3"
  },
  "language_info": {
   "codemirror_mode": {
    "name": "ipython",
    "version": 3
   },
   "file_extension": ".py",
   "mimetype": "text/x-python",
   "name": "python",
   "nbconvert_exporter": "python",
   "pygments_lexer": "ipython3",
   "version": "3.6.7"
  },
  "toc": {
   "base_numbering": 1,
   "nav_menu": {},
   "number_sections": true,
   "sideBar": true,
   "skip_h1_title": false,
   "title_cell": "Table of Contents",
   "title_sidebar": "Contents",
   "toc_cell": false,
   "toc_position": {},
   "toc_section_display": true,
   "toc_window_display": false
  }
 },
 "nbformat": 4,
 "nbformat_minor": 2
}
