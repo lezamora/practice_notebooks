{
 "cells": [
  {
   "cell_type": "markdown",
   "metadata": {},
   "source": [
    "## Importamos las librerías "
   ]
  },
  {
   "cell_type": "code",
   "execution_count": 1,
   "metadata": {},
   "outputs": [],
   "source": [
    "import numpy as np\n",
    "import pandas as pd\n",
    "import seaborn as sns\n",
    "\n",
    "import matplotlib as mpl\n",
    "import matplotlib.pyplot as plt\n",
    "from matplotlib.colors import Normalize"
   ]
  },
  {
   "cell_type": "markdown",
   "metadata": {},
   "source": [
    "## Graficos "
   ]
  },
  {
   "cell_type": "markdown",
   "metadata": {},
   "source": [
    "### Figura 1"
   ]
  },
  {
   "cell_type": "markdown",
   "metadata": {},
   "source": [
    "<img src=\"../images/figura_1.png\">"
   ]
  },
  {
   "cell_type": "markdown",
   "metadata": {},
   "source": [
    "#### Reshape "
   ]
  },
  {
   "cell_type": "code",
   "execution_count": 2,
   "metadata": {},
   "outputs": [
    {
     "data": {
      "text/plain": [
       "(5, 5)"
      ]
     },
     "execution_count": 2,
     "metadata": {},
     "output_type": "execute_result"
    }
   ],
   "source": [
    "figura_1 = pd.read_csv('../data/data_figura_1.csv')\n",
    "figura_1.shape"
   ]
  },
  {
   "cell_type": "code",
   "execution_count": 3,
   "metadata": {},
   "outputs": [],
   "source": [
    "figura_1 = figura_1[['interest', 'before', 'after']]"
   ]
  },
  {
   "cell_type": "code",
   "execution_count": 4,
   "metadata": {},
   "outputs": [
    {
     "data": {
      "text/html": [
       "<div>\n",
       "<style scoped>\n",
       "    .dataframe tbody tr th:only-of-type {\n",
       "        vertical-align: middle;\n",
       "    }\n",
       "\n",
       "    .dataframe tbody tr th {\n",
       "        vertical-align: top;\n",
       "    }\n",
       "\n",
       "    .dataframe thead th {\n",
       "        text-align: right;\n",
       "    }\n",
       "</style>\n",
       "<table border=\"1\" class=\"dataframe\">\n",
       "  <thead>\n",
       "    <tr style=\"text-align: right;\">\n",
       "      <th></th>\n",
       "      <th>interest</th>\n",
       "      <th>class</th>\n",
       "      <th>avg</th>\n",
       "    </tr>\n",
       "  </thead>\n",
       "  <tbody>\n",
       "    <tr>\n",
       "      <th>0</th>\n",
       "      <td>Bored</td>\n",
       "      <td>before</td>\n",
       "      <td>11</td>\n",
       "    </tr>\n",
       "    <tr>\n",
       "      <th>1</th>\n",
       "      <td>Bored</td>\n",
       "      <td>after</td>\n",
       "      <td>12</td>\n",
       "    </tr>\n",
       "    <tr>\n",
       "      <th>2</th>\n",
       "      <td>Not great</td>\n",
       "      <td>before</td>\n",
       "      <td>5</td>\n",
       "    </tr>\n",
       "    <tr>\n",
       "      <th>3</th>\n",
       "      <td>Not great</td>\n",
       "      <td>after</td>\n",
       "      <td>6</td>\n",
       "    </tr>\n",
       "    <tr>\n",
       "      <th>4</th>\n",
       "      <td>OK</td>\n",
       "      <td>before</td>\n",
       "      <td>40</td>\n",
       "    </tr>\n",
       "  </tbody>\n",
       "</table>\n",
       "</div>"
      ],
      "text/plain": [
       "    interest   class  avg\n",
       "0      Bored  before   11\n",
       "1      Bored   after   12\n",
       "2  Not great  before    5\n",
       "3  Not great   after    6\n",
       "4         OK  before   40"
      ]
     },
     "execution_count": 4,
     "metadata": {},
     "output_type": "execute_result"
    }
   ],
   "source": [
    "figura_1 = figura_1.set_index('interest').stack().reset_index()\n",
    "figura_1.columns = ['interest', 'class', 'avg']\n",
    "figura_1.head()"
   ]
  },
  {
   "cell_type": "markdown",
   "metadata": {},
   "source": [
    "#### Plot"
   ]
  },
  {
   "cell_type": "code",
   "execution_count": 10,
   "metadata": {},
   "outputs": [],
   "source": [
    "# Paleta de colores\n",
    "gray_l = '#9c9c9c'\n",
    "gray_m = '#828282'\n",
    "blue_l = '#6699CC'\n",
    "blue_m = '#0067a5'\n",
    "\n",
    "figura_1.loc[(figura_1['class'] == 'before') & (figura_1['avg'] < 30), 'color'] = gray_l\n",
    "figura_1.loc[(figura_1['class'] == 'before') & (figura_1['avg'] >= 30), 'color'] = gray_m\n",
    "figura_1.loc[(figura_1['class'] == 'after') & (figura_1['avg'] < 30), 'color'] = blue_l\n",
    "figura_1.loc[(figura_1['class'] == 'after') & (figura_1['avg'] >= 30), 'color'] = blue_m\n",
    "\n",
    "color_1 = figura_1.loc[figura_1['class'] == 'before', 'color'].to_list()\n",
    "color_2 = figura_1.loc[figura_1['class'] == 'after', 'color'].to_list()\n",
    "\n",
    "color = color_1 + color_2"
   ]
  },
  {
   "cell_type": "code",
   "execution_count": 35,
   "metadata": {},
   "outputs": [
    {
     "data": {
      "image/png": "[encoded data removed]",
      "text/plain": [
       "<Figure size 576x360 with 1 Axes>"
      ]
     },
     "metadata": {},
     "output_type": "display_data"
    }
   ],
   "source": [
    "import seaborn as sns\n",
    "\n",
    "\n",
    "fig, ax = plt.subplots(figsize=(8, 5))\n",
    "g = sns.barplot(x=\"interest\", y=\"avg\", hue=\"class\", data=figura_1, palette=['#9c9c9c', '#0067a5'], ax=ax)\n",
    "\n",
    "\n",
    "# Funcion para agregar anotaciones en las barras\n",
    "def autolabel(rects):\n",
    "    \"\"\"Attach a text label above each bar in *rects*, displaying its height.\"\"\"\n",
    "    for rect in rects:\n",
    "        height = rect.get_height()\n",
    "        ax.annotate('{}%'.format(height),\n",
    "                    xy=(rect.get_x() + rect.get_width() / 2, height),\n",
    "                    xytext=(0, -18),  # 3 points vertical offset\n",
    "                    textcoords=\"offset points\",\n",
    "                    ha='center', va='bottom',\n",
    "                    size=13, color='white')\n",
    "        \n",
    "\n",
    "# Funcion para colores\n",
    "def mapper_color(rects):\n",
    "    for i, rec in enumerate(rects):\n",
    "        rec.set_color(color[i])\n",
    "\n",
    "\n",
    "\n",
    "# Quitamos las lineas del grafico\n",
    "ax.spines['left'].set_visible(False)\n",
    "ax.spines['right'].set_visible(False)\n",
    "ax.spines['top'].set_visible(False)\n",
    "ax.spines['bottom'].set_visible(False)\n",
    "\n",
    "\n",
    "# Escondemos la layenda y los axis label\n",
    "ax.legend().set_visible(False)\n",
    "ax.xaxis.label.set_visible(False)\n",
    "ax.yaxis.label.set_visible(False)\n",
    "\n",
    "# Eje x\n",
    "ax.set_xticklabels(figura_1['interest'].unique(), color='#9c9c9c', size=13, weight='bold', family='sans-serif')\n",
    "ax.xaxis.set_ticks_position('none') \n",
    "\n",
    "# Eje y\n",
    "ax.yaxis.set_ticklabels([])\n",
    "ax.yaxis.set_ticks_position('none') \n",
    "\n",
    "# Seteamos el texto dentro de la barra\n",
    "autolabel(g.patches)\n",
    "\n",
    "# Seteamos el color segun el valor\n",
    "mapper_color(g.patches)\n",
    "\n",
    "fig.tight_layout()\n",
    "\n",
    "# Titulo\n",
    "plt.suptitle('Pilot program was a success',fontsize=15, y=1.10, x=0.05, ha='left', \n",
    "             color='white', backgroundcolor='#828282')\n",
    "\n",
    "\n",
    "plt.title('How do you feel about science?', fontsize=14, loc='left', x=0.02)\n",
    "\n",
    "plt.show()"
   ]
  }
 ],
 "metadata": {
  "kernelspec": {
   "display_name": "Python 3",
   "language": "python",
   "name": "python3"
  },
  "language_info": {
   "codemirror_mode": {
    "name": "ipython",
    "version": 3
   },
   "file_extension": ".py",
   "mimetype": "text/x-python",
   "name": "python",
   "nbconvert_exporter": "python",
   "pygments_lexer": "ipython3",
   "version": "3.6.7"
  },
  "toc": {
   "base_numbering": 1,
   "nav_menu": {},
   "number_sections": true,
   "sideBar": true,
   "skip_h1_title": false,
   "title_cell": "Table of Contents",
   "title_sidebar": "Contents",
   "toc_cell": false,
   "toc_position": {},
   "toc_section_display": true,
   "toc_window_display": false
  }
 },
 "nbformat": 4,
 "nbformat_minor": 2
}
